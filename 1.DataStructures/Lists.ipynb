{
 "cells": [
  {
   "cell_type": "code",
   "execution_count": null,
   "metadata": {},
   "outputs": [],
   "source": [
    "# List\n",
    "# List is mutable object.can have any datatype of data.\n",
    "# https://docs.python.org/3/tutorial/datastructures.html"
   ]
  },
  {
   "cell_type": "code",
   "execution_count": 93,
   "metadata": {},
   "outputs": [],
   "source": [
    "mylist = [1,3,6,8,'Apple','Banana',5+3j,56.90]"
   ]
  },
  {
   "cell_type": "code",
   "execution_count": 94,
   "metadata": {},
   "outputs": [
    {
     "data": {
      "text/plain": [
       "8"
      ]
     },
     "execution_count": 94,
     "metadata": {},
     "output_type": "execute_result"
    }
   ],
   "source": [
    "len(mylist)"
   ]
  },
  {
   "cell_type": "code",
   "execution_count": 95,
   "metadata": {},
   "outputs": [
    {
     "data": {
      "text/plain": [
       "[1, 3, 6, 8, 'Apple', 'Banana', (5+3j), 56.9, 120]"
      ]
     },
     "execution_count": 95,
     "metadata": {},
     "output_type": "execute_result"
    }
   ],
   "source": [
    "# append\n",
    "mylist.append(120)\n",
    "mylist"
   ]
  },
  {
   "cell_type": "code",
   "execution_count": 96,
   "metadata": {},
   "outputs": [
    {
     "data": {
      "text/plain": [
       "[]"
      ]
     },
     "execution_count": 96,
     "metadata": {},
     "output_type": "execute_result"
    }
   ],
   "source": [
    "# clear\n",
    "mylist.clear()\n",
    "mylist"
   ]
  },
  {
   "cell_type": "code",
   "execution_count": 97,
   "metadata": {},
   "outputs": [
    {
     "name": "stdout",
     "output_type": "stream",
     "text": [
      "[1, 3, 6, 8, 'Apple', 'Banana', (5+3j), 56.9]\n",
      "[1, 3, 6, 8, 'Apple', 'Banana', (5+3j), 56.9]\n"
     ]
    }
   ],
   "source": [
    "# copy\n",
    "mylist = [1,3,6,8,'Apple','Banana',5+3j,56.90]\n",
    "mylist2 = mylist.copy() # copy makes identical seperate copy new memory.\n",
    "print(mylist)\n",
    "print(mylist2)"
   ]
  },
  {
   "cell_type": "code",
   "execution_count": 98,
   "metadata": {},
   "outputs": [],
   "source": [
    "mylist.append(12)"
   ]
  },
  {
   "cell_type": "code",
   "execution_count": 99,
   "metadata": {},
   "outputs": [
    {
     "name": "stdout",
     "output_type": "stream",
     "text": [
      "[1, 3, 6, 8, 'Apple', 'Banana', (5+3j), 56.9, 12]\n",
      "[1, 3, 6, 8, 'Apple', 'Banana', (5+3j), 56.9]\n"
     ]
    }
   ],
   "source": [
    "print(mylist)\n",
    "print(mylist2)\n",
    "# both list are independent of each other. both are consuming memory."
   ]
  },
  {
   "cell_type": "code",
   "execution_count": 100,
   "metadata": {},
   "outputs": [],
   "source": [
    "mylist = [1,3,6,8,'Apple','Banana',5+3j,56.90]\n",
    "mylist2 = mylist #  makes connected copy of it. it is always updated and no seperate memory used for storing L2.\n"
   ]
  },
  {
   "cell_type": "code",
   "execution_count": 101,
   "metadata": {},
   "outputs": [],
   "source": [
    "# append\n",
    "mylist.append(12)\n",
    "# any change in mylist will be directly updated to mylist2 as both are connected."
   ]
  },
  {
   "cell_type": "code",
   "execution_count": 103,
   "metadata": {},
   "outputs": [
    {
     "name": "stdout",
     "output_type": "stream",
     "text": [
      "[1, 3, 6, 8, 'Apple', 'Banana', (5+3j), 56.9, 12]\n",
      "[1, 3, 6, 8, 'Apple', 'Banana', (5+3j), 56.9, 12]\n"
     ]
    }
   ],
   "source": [
    "print(mylist)\n",
    "print(mylist2)\n",
    "# both list are connected with each other. mylist2 does not consume memory."
   ]
  },
  {
   "cell_type": "code",
   "execution_count": 110,
   "metadata": {},
   "outputs": [
    {
     "name": "stdout",
     "output_type": "stream",
     "text": [
      "3\n",
      "1\n",
      "2\n",
      "0\n"
     ]
    }
   ],
   "source": [
    "#count\n",
    "mylist = [1,2,4,7,1,4,1,7,9,'1',3,4,5]\n",
    "print(mylist.count(1)) # counts how many times int 1 is coming. str '1' is not 1.\n",
    "print(mylist.count(2))\n",
    "print(mylist.count(7))\n",
    "print(mylist.count(8)) # if any element is not there in the list it will return 0."
   ]
  },
  {
   "cell_type": "code",
   "execution_count": 113,
   "metadata": {},
   "outputs": [
    {
     "name": "stdout",
     "output_type": "stream",
     "text": [
      "[1, 2, 4, 7, 1, 4, 1, 7, 9, '1', 3, 4, 5, 1000, 2000, 3000]\n",
      "[1000, 2000, 3000]\n"
     ]
    }
   ],
   "source": [
    "#extend\n",
    "mylist = [1,2,4,7,1,4,1,7,9,'1',3,4,5]\n",
    "mylist2 = [1000,2000,3000]\n",
    "mylist.extend(mylist2)\n",
    "print(mylist) # updated with mylist2 elements.\n",
    "print(mylist2) # unchanged.\n"
   ]
  },
  {
   "cell_type": "code",
   "execution_count": 114,
   "metadata": {},
   "outputs": [
    {
     "data": {
      "text/plain": [
       "2"
      ]
     },
     "execution_count": 114,
     "metadata": {},
     "output_type": "execute_result"
    }
   ],
   "source": [
    "#index\n",
    "mylist = [1,2,4,7,1,4,1,7,9,'1',3,4,5]\n",
    "mylist.index(4) # find index for given value, if multiple values exists then the first instence index is returned.\n"
   ]
  },
  {
   "cell_type": "code",
   "execution_count": 146,
   "metadata": {},
   "outputs": [
    {
     "data": {
      "text/plain": [
       "[1, 2, 4, 7, 1, 4, '1', 3, 4, 5, 'minus_two', 'minus_one', 'maximum_length']"
      ]
     },
     "execution_count": 146,
     "metadata": {},
     "output_type": "execute_result"
    }
   ],
   "source": [
    "#insert\n",
    "# insert adds element at the defined index. in case of -1 it adds that element at before of that index.\n",
    "mylist = [1,2,4,7,1,4,'1',3,4,5]\n",
    "mylist.insert(15,\"maximum_length\")\n",
    "mylist.insert(-1,\"minus_one\") # before index case\n",
    "mylist.insert(-2,\"minus_two\") # before index case\n",
    "mylist"
   ]
  },
  {
   "cell_type": "code",
   "execution_count": 147,
   "metadata": {},
   "outputs": [
    {
     "data": {
      "text/plain": [
       "[1, 2, 4, 7, 1, 4, '1', 3, 4, 5, 'minus_two', 'minus_one']"
      ]
     },
     "execution_count": 147,
     "metadata": {},
     "output_type": "execute_result"
    }
   ],
   "source": [
    "#pop\n",
    "# by default it will remove the last element from list (-1) but you can specify any index.\n",
    "mylist.pop()\n",
    "mylist"
   ]
  },
  {
   "cell_type": "code",
   "execution_count": 142,
   "metadata": {},
   "outputs": [
    {
     "data": {
      "text/plain": [
       "[1, 2, 4, 7, 1, 4, '1', 3, 4, 5, 'minus_one']"
      ]
     },
     "execution_count": 142,
     "metadata": {},
     "output_type": "execute_result"
    }
   ],
   "source": [
    "#pop\n",
    "mylist.pop(-2) # user defined list index.\n",
    "mylist"
   ]
  },
  {
   "cell_type": "code",
   "execution_count": 148,
   "metadata": {},
   "outputs": [
    {
     "data": {
      "text/plain": [
       "[1, 2, 4, 7, 1, 4, '1', 3, 4, 5]"
      ]
     },
     "execution_count": 148,
     "metadata": {},
     "output_type": "execute_result"
    }
   ],
   "source": [
    "#remove\n",
    "mylist = [1, 2, 4, 7, 1, 4, '1', 3, 4, 5, 'minus_one']\n",
    "mylist.remove('minus_one')\n",
    "mylist"
   ]
  },
  {
   "cell_type": "code",
   "execution_count": 149,
   "metadata": {},
   "outputs": [
    {
     "ename": "ValueError",
     "evalue": "list.remove(x): x not in list",
     "output_type": "error",
     "traceback": [
      "\u001b[1;31m---------------------------------------------------------------------------\u001b[0m",
      "\u001b[1;31mValueError\u001b[0m                                Traceback (most recent call last)",
      "Cell \u001b[1;32mIn[149], line 3\u001b[0m\n\u001b[0;32m      1\u001b[0m \u001b[38;5;66;03m#remove\u001b[39;00m\n\u001b[0;32m      2\u001b[0m mylist \u001b[38;5;241m=\u001b[39m [\u001b[38;5;241m1\u001b[39m, \u001b[38;5;241m2\u001b[39m, \u001b[38;5;241m4\u001b[39m, \u001b[38;5;241m7\u001b[39m, \u001b[38;5;241m1\u001b[39m, \u001b[38;5;241m4\u001b[39m, \u001b[38;5;124m'\u001b[39m\u001b[38;5;124m1\u001b[39m\u001b[38;5;124m'\u001b[39m, \u001b[38;5;241m3\u001b[39m, \u001b[38;5;241m4\u001b[39m, \u001b[38;5;241m5\u001b[39m, \u001b[38;5;124m'\u001b[39m\u001b[38;5;124mminus_one\u001b[39m\u001b[38;5;124m'\u001b[39m]\n\u001b[1;32m----> 3\u001b[0m \u001b[43mmylist\u001b[49m\u001b[38;5;241;43m.\u001b[39;49m\u001b[43mremove\u001b[49m\u001b[43m(\u001b[49m\u001b[38;5;124;43m'\u001b[39;49m\u001b[38;5;124;43manything that is not in list\u001b[39;49m\u001b[38;5;124;43m'\u001b[39;49m\u001b[43m)\u001b[49m\n\u001b[0;32m      4\u001b[0m mylist\n",
      "\u001b[1;31mValueError\u001b[0m: list.remove(x): x not in list"
     ]
    }
   ],
   "source": [
    "#remove\n",
    "mylist = [1, 2, 4, 7, 1, 4, '1', 3, 4, 5, 'minus_one']\n",
    "mylist.remove('anything that is not in list')\n",
    "mylist"
   ]
  },
  {
   "cell_type": "code",
   "execution_count": 150,
   "metadata": {},
   "outputs": [
    {
     "data": {
      "text/plain": [
       "['minus_one', 5, 4, 3, '1', 4, 1, 7, 4, 2, 1]"
      ]
     },
     "execution_count": 150,
     "metadata": {},
     "output_type": "execute_result"
    }
   ],
   "source": [
    "#reverse\n",
    "mylist = [1, 2, 4, 7, 1, 4, '1', 3, 4, 5, 'minus_one']\n",
    "mylist.reverse()\n",
    "mylist"
   ]
  },
  {
   "cell_type": "code",
   "execution_count": 153,
   "metadata": {},
   "outputs": [
    {
     "data": {
      "text/plain": [
       "[1, 1, 2, 3, 4, 4, 4, 5, 7]"
      ]
     },
     "execution_count": 153,
     "metadata": {},
     "output_type": "execute_result"
    }
   ],
   "source": [
    "# sort\n",
    "mylist = [1, 2, 4, 7, 1, 4, 3, 4, 5]\n",
    "mylist.sort()\n",
    "mylist"
   ]
  },
  {
   "cell_type": "code",
   "execution_count": 155,
   "metadata": {},
   "outputs": [
    {
     "data": {
      "text/plain": [
       "['A', 'F', 'Y', 'Z', 'a', 'r', 't', 'z']"
      ]
     },
     "execution_count": 155,
     "metadata": {},
     "output_type": "execute_result"
    }
   ],
   "source": [
    "# sort\n",
    "mylist = ['A', 'Z', 'F', 'r', 'a', 't', 'z', 'Y']\n",
    "mylist.sort()\n",
    "mylist"
   ]
  },
  {
   "cell_type": "code",
   "execution_count": 156,
   "metadata": {},
   "outputs": [
    {
     "data": {
      "text/plain": [
       "['z', 't', 'r', 'a', 'Z', 'Y', 'F', 'A']"
      ]
     },
     "execution_count": 156,
     "metadata": {},
     "output_type": "execute_result"
    }
   ],
   "source": [
    "# sort\n",
    "mylist = ['A', 'Z', 'F', 'r', 'a', 't', 'z', 'Y']\n",
    "mylist.sort(reverse= True)\n",
    "mylist"
   ]
  },
  {
   "cell_type": "code",
   "execution_count": 154,
   "metadata": {},
   "outputs": [
    {
     "ename": "TypeError",
     "evalue": "'<' not supported between instances of 'str' and 'int'",
     "output_type": "error",
     "traceback": [
      "\u001b[1;31m---------------------------------------------------------------------------\u001b[0m",
      "\u001b[1;31mTypeError\u001b[0m                                 Traceback (most recent call last)",
      "Cell \u001b[1;32mIn[154], line 3\u001b[0m\n\u001b[0;32m      1\u001b[0m \u001b[38;5;66;03m# sort\u001b[39;00m\n\u001b[0;32m      2\u001b[0m mylist \u001b[38;5;241m=\u001b[39m [\u001b[38;5;241m1\u001b[39m, \u001b[38;5;241m2\u001b[39m, \u001b[38;5;241m4\u001b[39m, \u001b[38;5;124m'\u001b[39m\u001b[38;5;124m7\u001b[39m\u001b[38;5;124m'\u001b[39m, \u001b[38;5;241m1\u001b[39m, \u001b[38;5;241m4\u001b[39m, \u001b[38;5;241m3\u001b[39m, \u001b[38;5;241m4\u001b[39m, \u001b[38;5;241m5\u001b[39m]\n\u001b[1;32m----> 3\u001b[0m \u001b[43mmylist\u001b[49m\u001b[38;5;241;43m.\u001b[39;49m\u001b[43msort\u001b[49m\u001b[43m(\u001b[49m\u001b[43m)\u001b[49m\n\u001b[0;32m      4\u001b[0m mylist\n",
      "\u001b[1;31mTypeError\u001b[0m: '<' not supported between instances of 'str' and 'int'"
     ]
    }
   ],
   "source": [
    "# sort\n",
    "mylist = [1, 2, 4, '7', 1, 4, 3, 4, 5]\n",
    "mylist.sort()\n",
    "mylist"
   ]
  },
  {
   "cell_type": "code",
   "execution_count": 164,
   "metadata": {},
   "outputs": [],
   "source": [
    "#slicing\n",
    "l1 = [1,2,3,1.1,2.2,'tops','Banana',10,20,30,True,7,8,9,4,5,6,100]"
   ]
  },
  {
   "cell_type": "code",
   "execution_count": null,
   "metadata": {},
   "outputs": [],
   "source": [
    "# Slicing parameters\n",
    "# list[start:stop:step]\n",
    "\n",
    "# start = start index (always included) if blank than it is 0.\n",
    "# stop = end index (never included if mentioned) if blank than it is -1(maximum index).\n",
    "# step = step count, if omitted, it defaults to 1\n",
    "\n",
    "# Reversing a List: Using a negative step, like list[::-1], reverses the list."
   ]
  },
  {
   "cell_type": "code",
   "execution_count": 86,
   "metadata": {},
   "outputs": [
    {
     "name": "stdout",
     "output_type": "stream",
     "text": [
      "[1, 2, 3, 1.1, 2.2, 'tops', 'Banana', 10, 20, 30, True, 7, 8, 9, 4, 5, 6]\n",
      "17\n"
     ]
    }
   ],
   "source": [
    "print(l1[:-1:1])\n",
    "print(len(l1[:-1:1]))\n",
    "# b = end index -1 is not included as it is mentioned."
   ]
  },
  {
   "cell_type": "code",
   "execution_count": 85,
   "metadata": {},
   "outputs": [
    {
     "name": "stdout",
     "output_type": "stream",
     "text": [
      "[1, 2, 3, 1.1, 2.2, 'tops', 'Banana', 10, 20, 30, True, 7, 8, 9, 4, 5, 6, 100]\n",
      "18\n"
     ]
    }
   ],
   "source": [
    "print(l1[::1])\n",
    "print(len(l1[::1]))\n",
    "# b = end index -1 is included as it is blank."
   ]
  },
  {
   "cell_type": "code",
   "execution_count": 87,
   "metadata": {},
   "outputs": [
    {
     "name": "stdout",
     "output_type": "stream",
     "text": [
      "[100, 6, 5, 4, 9, 8, 7, True, 30, 20, 10, 'Banana', 'tops', 2.2, 1.1, 3, 2, 1]\n",
      "18\n"
     ]
    }
   ],
   "source": [
    "print(l1[::-1]) # also used to reverse the list.\n",
    "print(len(l1[::-1]))\n",
    "# c\n",
    "# if step count > 0 ; Directiom left to right.\n",
    "# if step count < 0 ; Directiom right to left."
   ]
  },
  {
   "cell_type": "code",
   "execution_count": 54,
   "metadata": {},
   "outputs": [
    {
     "name": "stdout",
     "output_type": "stream",
     "text": [
      "[2, 7]\n",
      "1\n",
      "11\n"
     ]
    }
   ],
   "source": [
    "print(l1[1::10])\n",
    "print(l1.index(2))\n",
    "print(l1.index(7))\n",
    "# Explanation: This slice starts at index 1 and takes every 10th element until the end of the list.\n",
    "# output in terms of index : [1,11]"
   ]
  },
  {
   "cell_type": "code",
   "execution_count": 52,
   "metadata": {},
   "outputs": [
    {
     "name": "stdout",
     "output_type": "stream",
     "text": [
      "[2, 3, 1.1, 2.2, 'tops', 'Banana', 10, 20, 30]\n",
      "1\n",
      "9\n"
     ]
    }
   ],
   "source": [
    "print(l1[1:10])\n",
    "print(l1.index(2))\n",
    "print(l1.index(30))\n",
    "# Explanation: This slice starts at index 1 and goes up to, but does not include, index 10.\n",
    "# output in terms of index : [1,2,3,4,5,6,7,8,9]"
   ]
  },
  {
   "cell_type": "code",
   "execution_count": 47,
   "metadata": {},
   "outputs": [
    {
     "name": "stdout",
     "output_type": "stream",
     "text": [
      "['tops', 'Banana', 10, 20, 30]\n",
      "5\n",
      "9\n"
     ]
    }
   ],
   "source": [
    "print(l1[5:10:1])\n",
    "print(l1.index('tops'))\n",
    "print(l1.index(30))\n",
    "\n",
    "# Explanation: This slice starts at index 5, goes up to, but does not include, index 10,\n",
    "# and takes every element (step of 1).\n",
    "# output in terms of index : [5,6,7,8,9]\n"
   ]
  },
  {
   "cell_type": "code",
   "execution_count": 48,
   "metadata": {},
   "outputs": [
    {
     "name": "stdout",
     "output_type": "stream",
     "text": [
      "['tops', 10, 30]\n",
      "5\n",
      "9\n"
     ]
    }
   ],
   "source": [
    "print(l1[5:10:2])\n",
    "print(l1.index('tops'))\n",
    "print(l1.index(30))\n",
    "# Explanation: This slice starts at index 5, goes up to, but does not include, index 10,\n",
    "# and takes every element (step of 2).\n",
    "# output in terms of index : [5,7,9]"
   ]
  },
  {
   "cell_type": "code",
   "execution_count": 51,
   "metadata": {},
   "outputs": [
    {
     "name": "stdout",
     "output_type": "stream",
     "text": [
      "[1.1, 'Banana', 30, 8]\n",
      "3\n",
      "6\n",
      "9\n",
      "12\n"
     ]
    }
   ],
   "source": [
    "print(l1[3:15:3])\n",
    "# Explanation: This slice starts from the beginning (index 3), goes up to index 15, but does not include index 15,\n",
    "# and takes every 3rd element.\n",
    "# output in terms of index : [3,6,9,12]\n",
    "print(l1.index(1.1))\n",
    "print(l1.index('Banana'))\n",
    "print(l1.index(30))\n",
    "print(l1.index(8))\n"
   ]
  },
  {
   "cell_type": "code",
   "execution_count": 56,
   "metadata": {},
   "outputs": [
    {
     "name": "stdout",
     "output_type": "stream",
     "text": [
      "[1, 'tops']\n",
      "0\n",
      "5\n"
     ]
    }
   ],
   "source": [
    "print(l1[:10:5])\n",
    "# Explanation: This slice starts from the beginning (index 0), goes up to index 10, but does not include index 10,\n",
    "# and takes every 5th element.\n",
    "# output in terms of index : [0,5]\n",
    "print(l1.index(1))\n",
    "print(l1.index('tops'))"
   ]
  },
  {
   "cell_type": "code",
   "execution_count": 60,
   "metadata": {},
   "outputs": [
    {
     "name": "stdout",
     "output_type": "stream",
     "text": [
      "[1, 5]\n",
      "0\n",
      "15\n"
     ]
    }
   ],
   "source": [
    "print(l1[::15])\n",
    "# Explanation: This slice starts from the beginning (index 0), goes up to index till end,\n",
    "# and takes every 15th element.\n",
    "# output in terms of index : [0,15]\n",
    "print(l1.index(1))\n",
    "print(l1.index(5))"
   ]
  },
  {
   "cell_type": "code",
   "execution_count": 68,
   "metadata": {},
   "outputs": [
    {
     "name": "stdout",
     "output_type": "stream",
     "text": [
      "[1.1, 20, 9]\n",
      "1.1\n",
      "20\n",
      "9\n"
     ]
    }
   ],
   "source": [
    "print(l1[-15::5])\n",
    "# Explanation: This slice starts from the beginning (index -15), goes to all maxmimum index,(including it),\n",
    "# and takes every 5th element.\n",
    "# output in terms of index : ideally it should go to 0 but in reverse index last index is -1\n",
    "# and that is not included in window of 5 so output has only 3 element.\n",
    "# [-15,-10,-5]\n",
    "\n",
    "print(l1[-15])\n",
    "print(l1[-10])\n",
    "print(l1[-5])\n"
   ]
  },
  {
   "cell_type": "code",
   "execution_count": 75,
   "metadata": {},
   "outputs": [
    {
     "name": "stdout",
     "output_type": "stream",
     "text": [
      "[3, 2.2]\n",
      "3\n",
      "2.2\n"
     ]
    }
   ],
   "source": [
    "print(l1[-16:-13:2])\n",
    "# Explanation: This slice starts from index -16(included) , goes to index -14 (not included),\n",
    "# and takes every 2nd element.\n",
    "# output in terms of index : [-16,-14]\n",
    "print(l1[-16])\n",
    "print(l1[-14])"
   ]
  },
  {
   "cell_type": "code",
   "execution_count": 77,
   "metadata": {},
   "outputs": [
    {
     "name": "stdout",
     "output_type": "stream",
     "text": [
      "[1, 3, 2.2, 'Banana', 20, True, 8, 4]\n",
      "0\n",
      "14\n"
     ]
    }
   ],
   "source": [
    "print(l1[:-2:2])\n",
    "# Explanation: This slice starts from index 0 (included) , goes to index -2 (not included),\n",
    "# and takes every 2nd element.\n",
    "# output in terms of index : [0,2,4,6,8,10,12,14]\n",
    "print(l1.index(1))\n",
    "print(l1.index(4))\n"
   ]
  },
  {
   "cell_type": "code",
   "execution_count": 78,
   "metadata": {},
   "outputs": [
    {
     "name": "stdout",
     "output_type": "stream",
     "text": [
      "[100, True, 1.1]\n",
      "100\n",
      "True\n",
      "1.1\n"
     ]
    }
   ],
   "source": [
    "print(l1[::-7])\n",
    "# Explanation: This slice starts from index -1 (included) , goes to index -15 (included),\n",
    "# and takes every 7th element in right to left direction.\n",
    "# output in terms of index : [-1,-8,-15]\n",
    "print(l1[-1])\n",
    "print(l1[-8])\n",
    "print(l1[-15])\n"
   ]
  },
  {
   "cell_type": "code",
   "execution_count": 79,
   "metadata": {},
   "outputs": [
    {
     "name": "stdout",
     "output_type": "stream",
     "text": [
      "[3]\n",
      "3\n"
     ]
    }
   ],
   "source": [
    "print(l1[-16:-15:5])\n",
    "# Explanation: This slice starts from index -16 (included) , goes to index -15 ( not included),\n",
    "# and takes every 5th element in right to left direction.\n",
    "# output in terms of index : [-16]\n",
    "print(l1[-16])\n"
   ]
  },
  {
   "cell_type": "code",
   "execution_count": null,
   "metadata": {},
   "outputs": [],
   "source": [
    "# List comprehension\n",
    "# List comprehensions provide a concise way to create lists.\n",
    "# to make list where each element is the result of some operations applied to each member of another sequence or iterable,\n",
    "# or to create a subsequence of those elements that satisfy a certain condition."
   ]
  },
  {
   "cell_type": "code",
   "execution_count": 2,
   "metadata": {},
   "outputs": [
    {
     "data": {
      "text/plain": [
       "[0, 1, 2, 3, 4, 5, 6, 7]"
      ]
     },
     "execution_count": 2,
     "metadata": {},
     "output_type": "execute_result"
    }
   ],
   "source": [
    "numbers = [x for x in range(8)]\n",
    "numbers"
   ]
  },
  {
   "cell_type": "code",
   "execution_count": 3,
   "metadata": {},
   "outputs": [
    {
     "data": {
      "text/plain": [
       "[0, 1, 4, 9, 16, 25, 36, 49]"
      ]
     },
     "execution_count": 3,
     "metadata": {},
     "output_type": "execute_result"
    }
   ],
   "source": [
    "squares = [x**2 for x in range(8)]\n",
    "squares"
   ]
  },
  {
   "cell_type": "code",
   "execution_count": 6,
   "metadata": {},
   "outputs": [
    {
     "data": {
      "text/plain": [
       "[0, 1, 4, 9, 16, 25, 36, 49, 64, 81]"
      ]
     },
     "execution_count": 6,
     "metadata": {},
     "output_type": "execute_result"
    }
   ],
   "source": [
    "# Another way to achive this by map and lambda functions:\n",
    "list(map(lambda x: x**2, range(10)))"
   ]
  },
  {
   "cell_type": "code",
   "execution_count": 8,
   "metadata": {},
   "outputs": [
    {
     "data": {
      "text/plain": [
       "[(1, 1), (2, 1), (3, 1)]"
      ]
     },
     "execution_count": 8,
     "metadata": {},
     "output_type": "execute_result"
    }
   ],
   "source": [
    "[(x,y) for x in [1,2,3] for y in [10,1,12] if x >= y]"
   ]
  },
  {
   "cell_type": "code",
   "execution_count": 10,
   "metadata": {},
   "outputs": [
    {
     "data": {
      "text/plain": [
       "['BANANA', 'LOGANBERRY ', 'PASSION FRUIT']"
      ]
     },
     "execution_count": 10,
     "metadata": {},
     "output_type": "execute_result"
    }
   ],
   "source": [
    "freshfruit = ['banana', 'loganberry ', 'passion fruit']\n",
    "[fruit.upper() for fruit in freshfruit]"
   ]
  },
  {
   "cell_type": "code",
   "execution_count": 11,
   "metadata": {},
   "outputs": [
    {
     "data": {
      "text/plain": [
       "[False, False, False]"
      ]
     },
     "execution_count": 11,
     "metadata": {},
     "output_type": "execute_result"
    }
   ],
   "source": [
    "freshfruit = ['banana', 'loganberry ', 'passion fruit']\n",
    "[fruit.isupper() for fruit in freshfruit]"
   ]
  },
  {
   "cell_type": "code",
   "execution_count": 3,
   "metadata": {},
   "outputs": [
    {
     "name": "stdout",
     "output_type": "stream",
     "text": [
      "[2000, 2005, 2010, 2015, 2020, 2025, 2035, 2040, 2045, 2050, 2055, 2060, 2070, 2075, 2080, 2085, 2090, 2095, 2105, 2110, 2115, 2120, 2125, 2130, 2140, 2145, 2150, 2155, 2160, 2165, 2175, 2180, 2185, 2190, 2195, 2200, 2210, 2215, 2220, 2225, 2230, 2235, 2245, 2250, 2255, 2260, 2265, 2270, 2280, 2285, 2290, 2295, 2300, 2305, 2315, 2320, 2325, 2330, 2335, 2340, 2350, 2355, 2360, 2365, 2370, 2375, 2385, 2390, 2395, 2400, 2405, 2410, 2420, 2425, 2430, 2435, 2440, 2445, 2455, 2460, 2465, 2470, 2475, 2480, 2490, 2495, 2500, 2505, 2510, 2515, 2525, 2530, 2535, 2540, 2545, 2550, 2560, 2565, 2570, 2575, 2580, 2585, 2595, 2600, 2605, 2610, 2615, 2620, 2630, 2635, 2640, 2645, 2650, 2655, 2665, 2670, 2675, 2680, 2685, 2690, 2700, 2705, 2710, 2715, 2720, 2725, 2735, 2740, 2745, 2750, 2755, 2760, 2770, 2775, 2780, 2785, 2790, 2795, 2805, 2810, 2815, 2820, 2825, 2830, 2840, 2845, 2850, 2855, 2860, 2865, 2875, 2880, 2885, 2890, 2895, 2900, 2910, 2915, 2920, 2925, 2930, 2935, 2945, 2950, 2955, 2960, 2965, 2970, 2980, 2985, 2990, 2995, 3000, 3005, 3015, 3020, 3025, 3030, 3035, 3040, 3050, 3055, 3060, 3065, 3070, 3075, 3085, 3090, 3095, 3100, 3105, 3110, 3120, 3125, 3130, 3135, 3140, 3145, 3155, 3160, 3165, 3170, 3175, 3180, 3190, 3195, 3200]\n"
     ]
    }
   ],
   "source": [
    "# 12-Aug-24\n",
    "# create a list of numbers from range 2000 to 3200 which are divisible with 5 but not 7.\n",
    "\n",
    "l = []\n",
    "\n",
    "for i in range(2000,3201):\n",
    "    if i%5 == 0 and i%7!=0:\n",
    "        l.append(i)\n",
    "\n",
    "print(l)"
   ]
  },
  {
   "cell_type": "code",
   "execution_count": 13,
   "metadata": {},
   "outputs": [
    {
     "name": "stdout",
     "output_type": "stream",
     "text": [
      "20\n"
     ]
    }
   ],
   "source": [
    "# random module\n",
    "import random\n",
    "\n",
    "# random int from range\n",
    "print(random.randint(1,100))"
   ]
  },
  {
   "cell_type": "code",
   "execution_count": 23,
   "metadata": {},
   "outputs": [
    {
     "name": "stdout",
     "output_type": "stream",
     "text": [
      "3\n"
     ]
    }
   ],
   "source": [
    "# random from list\n",
    "print(random.choice([1,2,3,4,5,6,'python',2024]))"
   ]
  },
  {
   "cell_type": "code",
   "execution_count": 27,
   "metadata": {},
   "outputs": [
    {
     "name": "stdout",
     "output_type": "stream",
     "text": [
      "[1, 2, 3, 4, 5, 6, 8, 9, 10, 11, 12, 13, 14, 16, 17, 18, 19, 20, 21, 22, 23, 24, 25, 26, 27, 28, 29, 30, 31, 33, 34, 35, 36, 37, 38, 39, 40, 41, 42, 43, 44, 45, 47, 48, 49, 50, 51, 52, 54, 55, 56, 57, 58, 59, 60, 61, 62, 64, 65, 66, 67, 68, 70, 72, 73, 74, 75, 76, 77, 78, 80, 81, 82, 83, 84, 85, 86, 88, 89, 90, 91, 92, 93, 94, 95, 96, 97, 98, 99, 100]\n",
      "[63, 53, 15, 46, 79, 71, 32, 87, 69, 7]\n"
     ]
    }
   ],
   "source": [
    "# Create a Python program to:\n",
    "\n",
    "# Populate a list l with numbers from 1 to 100.\n",
    "# Randomly select 10 unique numbers from l, add them to a list lucky, and remove them from l.\n",
    "# Print both lists l and lucky.\n",
    "\n",
    "\n",
    "l =[] # add 1 to 100 number in l.\n",
    "lucky = [] # pick 10 random lucky number draw in lucky list.\n",
    "\n",
    "for i in range(1,101):\n",
    "    l.append(i)\n",
    "\n",
    "\n",
    "for i in range(10):\n",
    "    num = random.choice(l)\n",
    "    lucky.append(num)\n",
    "    l.remove(num)\n",
    "\n",
    "print(l)\n",
    "print(lucky)\n"
   ]
  },
  {
   "cell_type": "code",
   "execution_count": 28,
   "metadata": {},
   "outputs": [
    {
     "name": "stdout",
     "output_type": "stream",
     "text": [
      "You guessed a smaller number\n",
      "You guessed a smaller number\n",
      "You guessed a greater number\n",
      "You guessed a smaller number\n",
      "You guessed a smaller number\n",
      "You guessed a correct number\n"
     ]
    }
   ],
   "source": [
    "# guessing a number game with while loop\n",
    "\n",
    "num = random.randint(1,20)\n",
    "\n",
    "while True:\n",
    "    guess = int(input(\"Guess a number between 1 to 20 : \"))\n",
    "    if guess == num:\n",
    "        print(\"You guessed a correct number\")\n",
    "        break\n",
    "    elif guess > num:\n",
    "        print(\"You guessed a greater number\")\n",
    "    elif guess < num:\n",
    "        print(\"You guessed a smaller number\")"
   ]
  },
  {
   "cell_type": "code",
   "execution_count": 29,
   "metadata": {},
   "outputs": [
    {
     "name": "stdout",
     "output_type": "stream",
     "text": [
      "You guessed a smaller number\n",
      "You guessed a smaller number\n",
      "You guessed a smaller number\n",
      "You guessed a smaller number\n",
      "You guessed a smaller number\n",
      "You guessed a greater number\n",
      "You guessed a greater number\n",
      "You guessed a correct number\n"
     ]
    }
   ],
   "source": [
    "# guessing a number game with for loop.\n",
    "\n",
    "num = random.randint(1,20)\n",
    "\n",
    "for i in range(100): # going to give 100 interactions.\n",
    "    guess = int(input(\"Guess a number between 1 to 20 : \"))\n",
    "    if guess == num:\n",
    "        print(\"You guessed a correct number\")\n",
    "        break\n",
    "    elif guess > num:\n",
    "        print(\"You guessed a greater number\")\n",
    "    elif guess < num:\n",
    "        print(\"You guessed a smaller number\")"
   ]
  },
  {
   "cell_type": "code",
   "execution_count": 30,
   "metadata": {},
   "outputs": [],
   "source": [
    "l1 = [1,2,3,4,5,6,'python',2024]"
   ]
  },
  {
   "cell_type": "code",
   "execution_count": null,
   "metadata": {},
   "outputs": [],
   "source": []
  },
  {
   "cell_type": "code",
   "execution_count": null,
   "metadata": {},
   "outputs": [],
   "source": []
  },
  {
   "cell_type": "code",
   "execution_count": null,
   "metadata": {},
   "outputs": [],
   "source": []
  },
  {
   "cell_type": "code",
   "execution_count": null,
   "metadata": {},
   "outputs": [],
   "source": []
  }
 ],
 "metadata": {
  "kernelspec": {
   "display_name": "Python 3",
   "language": "python",
   "name": "python3"
  },
  "language_info": {
   "codemirror_mode": {
    "name": "ipython",
    "version": 3
   },
   "file_extension": ".py",
   "mimetype": "text/x-python",
   "name": "python",
   "nbconvert_exporter": "python",
   "pygments_lexer": "ipython3",
   "version": "3.10.7"
  }
 },
 "nbformat": 4,
 "nbformat_minor": 2
}
