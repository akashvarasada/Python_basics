{
 "cells": [
  {
   "cell_type": "code",
   "execution_count": 24,
   "metadata": {},
   "outputs": [
    {
     "name": "stdout",
     "output_type": "stream",
     "text": [
      "\n",
      "*\n",
      "**\n",
      "***\n",
      "****\n"
     ]
    }
   ],
   "source": [
    "# Patterns\n",
    "for i in range(5):\n",
    "    print('*'*i)"
   ]
  },
  {
   "cell_type": "code",
   "execution_count": 25,
   "metadata": {},
   "outputs": [
    {
     "name": "stdout",
     "output_type": "stream",
     "text": [
      "0\n",
      "1\n",
      "2\n",
      "3\n",
      "4\n"
     ]
    }
   ],
   "source": [
    "# Patterns\n",
    "for i in range(5):\n",
    "    print(i)"
   ]
  },
  {
   "cell_type": "code",
   "execution_count": 26,
   "metadata": {},
   "outputs": [
    {
     "name": "stdout",
     "output_type": "stream",
     "text": [
      "\n",
      "1 \n",
      "1 2 \n",
      "1 2 3 \n",
      "1 2 3 4 \n",
      "1 2 3 4 5 \n"
     ]
    }
   ],
   "source": [
    "# Patterns\n",
    "for i in range(6):\n",
    "    for j in range(1,i+1):\n",
    "        print(j,end = \" \") # end = \" \" keeps output in one line\n",
    "    print() # blank print shifts to new line after inner loops is completed."
   ]
  },
  {
   "cell_type": "code",
   "execution_count": 27,
   "metadata": {},
   "outputs": [
    {
     "name": "stdout",
     "output_type": "stream",
     "text": [
      "\n",
      " 1  \n",
      " 1   2  \n",
      " 1   2   3  \n",
      " 1   2   3   4  \n",
      " 1   2   3   4   5  \n"
     ]
    }
   ],
   "source": [
    "# Patterns\n",
    "for i in range(6):\n",
    "    for j in range(1,i+1):\n",
    "        print(f\" {j} \",end = \" \") # end = \" \" keeps output in one line\n",
    "    print() # blank print shifts to new line after inner loops is completed."
   ]
  },
  {
   "cell_type": "code",
   "execution_count": 28,
   "metadata": {},
   "outputs": [
    {
     "name": "stdout",
     "output_type": "stream",
     "text": [
      "       \n",
      "      *\n",
      "     **\n",
      "    ***\n",
      "   ****\n",
      "  *****\n"
     ]
    }
   ],
   "source": [
    "# Patterns\n",
    "for i in range(6):\n",
    "    print(\" \"*(6-i),\"*\"*i)"
   ]
  },
  {
   "cell_type": "code",
   "execution_count": 29,
   "metadata": {},
   "outputs": [
    {
     "name": "stdout",
     "output_type": "stream",
     "text": [
      "       \n",
      "      * \n",
      "     * * \n",
      "    * * * \n",
      "   * * * * \n",
      "  * * * * * \n"
     ]
    }
   ],
   "source": [
    "# Patterns\n",
    "for i in range(6):\n",
    "    print(\" \"*(6-i),\"* \"*i) # added an additional space that made right angle triange to a piramid."
   ]
  },
  {
   "cell_type": "code",
   "execution_count": 30,
   "metadata": {},
   "outputs": [
    {
     "name": "stdout",
     "output_type": "stream",
     "text": [
      "A \n",
      "A B \n",
      "A B C \n",
      "A B C D \n",
      "A B C D E \n",
      "A B C D E F \n"
     ]
    }
   ],
   "source": [
    "for i in range(65,71):\n",
    "    for j in range(65,i+1):\n",
    "        print(chr(j), end= \" \")\n",
    "    print()"
   ]
  },
  {
   "cell_type": "code",
   "execution_count": 31,
   "metadata": {},
   "outputs": [
    {
     "name": "stdout",
     "output_type": "stream",
     "text": [
      "A \n",
      "B BB \n",
      "C CC CCC \n",
      "D DD DDD DDDD \n",
      "E EE EEE EEEE EEEEE \n"
     ]
    }
   ],
   "source": [
    "for i in range(65,70):\n",
    "    for j in range(1,i-65+2):\n",
    "        print(chr(i)*j, end= \" \")\n",
    "    print()"
   ]
  },
  {
   "cell_type": "code",
   "execution_count": 32,
   "metadata": {},
   "outputs": [
    {
     "name": "stdout",
     "output_type": "stream",
     "text": [
      "604999450000\n"
     ]
    }
   ],
   "source": [
    "#sum of first N natural numbers with for loop.\n",
    "sum = 0\n",
    "for i in range(1100000):\n",
    "    sum = sum + i\n",
    "print(sum)"
   ]
  },
  {
   "cell_type": "code",
   "execution_count": 33,
   "metadata": {},
   "outputs": [
    {
     "name": "stdout",
     "output_type": "stream",
     "text": [
      "605000550000.0\n"
     ]
    }
   ],
   "source": [
    "#sum of first N natural numbers without for loop.\n",
    "N = 1100000\n",
    "print((N*(N+1))/2)"
   ]
  },
  {
   "cell_type": "code",
   "execution_count": 34,
   "metadata": {},
   "outputs": [
    {
     "name": "stdout",
     "output_type": "stream",
     "text": [
      "0 1 1 2 3 5 8 13 21 34 "
     ]
    }
   ],
   "source": [
    "# fibonacci series\n",
    "# 0 1 1 2 3 5 8 13 21 34 55 ...\n",
    "a = 0\n",
    "b = 1\n",
    "\n",
    "for i in range(1,100):\n",
    "    if a < 50:\n",
    "        print(a, end=\" \")\n",
    "        a,b = b,a+b\n"
   ]
  },
  {
   "cell_type": "code",
   "execution_count": 12,
   "metadata": {},
   "outputs": [
    {
     "ename": "KeyboardInterrupt",
     "evalue": "",
     "output_type": "error",
     "traceback": [
      "\u001b[1;31m---------------------------------------------------------------------------\u001b[0m",
      "\u001b[1;31mKeyboardInterrupt\u001b[0m                         Traceback (most recent call last)",
      "Cell \u001b[1;32mIn[12], line 8\u001b[0m\n\u001b[0;32m      5\u001b[0m rebound \u001b[38;5;241m=\u001b[39m \u001b[38;5;241m0.6\u001b[39m\n\u001b[0;32m      6\u001b[0m distance \u001b[38;5;241m=\u001b[39m \u001b[38;5;241m0\u001b[39m\n\u001b[1;32m----> 8\u001b[0m \u001b[38;5;28;01mwhile\u001b[39;00m \u001b[43melevation\u001b[49m\u001b[43m \u001b[49m\u001b[38;5;241;43m>\u001b[39;49m\u001b[43m \u001b[49m\u001b[38;5;241;43m0\u001b[39;49m:\n\u001b[0;32m      9\u001b[0m     distance \u001b[38;5;241m=\u001b[39m distance \u001b[38;5;241m+\u001b[39m elevation \u001b[38;5;241m+\u001b[39m rebound \u001b[38;5;241m*\u001b[39m elevation\n\u001b[0;32m     10\u001b[0m     elevation \u001b[38;5;241m=\u001b[39m rebound \u001b[38;5;241m*\u001b[39m elevation\n",
      "\u001b[1;31mKeyboardInterrupt\u001b[0m: "
     ]
    }
   ],
   "source": [
    "# a ball is dropped from 120m height building and it reached to 80% of its initial hieght as a rebounce.\n",
    "# calculate the distance it will cover before coming to rest.\n",
    "\n",
    "elevation = 120\n",
    "rebound = 0.6\n",
    "distance = 0\n",
    "\n",
    "while elevation > 0:\n",
    "    distance = distance + elevation + rebound * elevation\n",
    "    elevation = rebound * elevation\n",
    "print(distance)"
   ]
  },
  {
   "cell_type": "code",
   "execution_count": 13,
   "metadata": {},
   "outputs": [
    {
     "name": "stdout",
     "output_type": "stream",
     "text": [
      "480.0000000000002\n"
     ]
    }
   ],
   "source": [
    "# a ball is dropped from 120m height building and it reached to 80% of its initial hieght as a rebounce.\n",
    "# calculate the distance it will cover before coming to rest.\n",
    "\n",
    "elevation = 120\n",
    "rebound = 0.6\n",
    "distance = 0\n",
    "for i in range(1000):\n",
    "    if elevation > 0:\n",
    "        distance = distance + elevation + rebound * elevation\n",
    "        elevation = rebound * elevation\n",
    "    else:\n",
    "        break\n",
    "\n",
    "print(distance)"
   ]
  },
  {
   "cell_type": "code",
   "execution_count": 14,
   "metadata": {},
   "outputs": [],
   "source": [
    "# While loop is much slower for larger iterations."
   ]
  },
  {
   "cell_type": "code",
   "execution_count": 18,
   "metadata": {},
   "outputs": [],
   "source": [
    "def calc(elevation,rebound):\n",
    "    distance = 0\n",
    "    for i in range(1000): # trick to use to avoid using while loop.\n",
    "        if elevation > 0:\n",
    "            distance = distance + elevation + rebound * elevation\n",
    "            elevation = rebound * elevation\n",
    "        else:\n",
    "            break\n",
    "    return distance"
   ]
  },
  {
   "cell_type": "code",
   "execution_count": 35,
   "metadata": {},
   "outputs": [
    {
     "data": {
      "text/plain": [
       "480.0000000000002"
      ]
     },
     "execution_count": 35,
     "metadata": {},
     "output_type": "execute_result"
    }
   ],
   "source": [
    "calc(120,0.6)"
   ]
  },
  {
   "cell_type": "code",
   "execution_count": 37,
   "metadata": {},
   "outputs": [
    {
     "name": "stdout",
     "output_type": "stream",
     "text": [
      "90 2279.9999999999986\n",
      "80 1080.000000000003\n",
      "70 680.0000000000001\n",
      "60 480.0000000000002\n",
      "50 360.0\n",
      "40 280.0000000000001\n",
      "30 222.85714285714283\n",
      "20 180.00000000000006\n",
      "10 146.66666666666663\n"
     ]
    }
   ],
   "source": [
    "for rebound in range(90,0,-10):\n",
    "    output = calc(120,rebound/100)\n",
    "    print(rebound,output)\n"
   ]
  },
  {
   "cell_type": "code",
   "execution_count": null,
   "metadata": {},
   "outputs": [],
   "source": []
  },
  {
   "cell_type": "code",
   "execution_count": null,
   "metadata": {},
   "outputs": [],
   "source": []
  },
  {
   "cell_type": "code",
   "execution_count": null,
   "metadata": {},
   "outputs": [],
   "source": []
  }
 ],
 "metadata": {
  "kernelspec": {
   "display_name": "Python 3",
   "language": "python",
   "name": "python3"
  },
  "language_info": {
   "codemirror_mode": {
    "name": "ipython",
    "version": 3
   },
   "file_extension": ".py",
   "mimetype": "text/x-python",
   "name": "python",
   "nbconvert_exporter": "python",
   "pygments_lexer": "ipython3",
   "version": "3.10.7"
  }
 },
 "nbformat": 4,
 "nbformat_minor": 2
}
