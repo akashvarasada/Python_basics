{
 "cells": [
  {
   "cell_type": "code",
   "execution_count": null,
   "metadata": {},
   "outputs": [],
   "source": [
    "# List as a stack\n",
    "# attribute of a stack is : last in first out"
   ]
  },
  {
   "cell_type": "code",
   "execution_count": 7,
   "metadata": {},
   "outputs": [
    {
     "name": "stdout",
     "output_type": "stream",
     "text": [
      "[10, 20, 30, 40, 50]\n",
      "[10, 20, 30, 40]\n",
      "[10, 20, 30]\n",
      "[10, 20]\n",
      "[10]\n",
      "[]\n"
     ]
    }
   ],
   "source": [
    "l =[]\n",
    "l.append(10)\n",
    "l.append(20)\n",
    "l.append(30)\n",
    "l.append(40)\n",
    "l.append(50)\n",
    "print(l)\n",
    "l.pop()\n",
    "print(l)\n",
    "l.pop()\n",
    "print(l)\n",
    "l.pop()\n",
    "print(l)\n",
    "l.pop()\n",
    "print(l)\n",
    "l.pop()\n",
    "print(l)\n"
   ]
  },
  {
   "cell_type": "code",
   "execution_count": null,
   "metadata": {},
   "outputs": [],
   "source": [
    "# List as a queue\n",
    "# Attribute of queue : First in First out\n",
    "\n",
    "# one approach is to have 0 index written in pop function.\n",
    "# another is to store it as deque() collection method and use popleft() function."
   ]
  },
  {
   "cell_type": "code",
   "execution_count": 10,
   "metadata": {},
   "outputs": [
    {
     "name": "stdout",
     "output_type": "stream",
     "text": [
      "[10, 20, 30, 40, 50]\n",
      "[20, 30, 40, 50]\n",
      "[30, 40, 50]\n",
      "[40, 50]\n",
      "[50]\n",
      "[]\n"
     ]
    }
   ],
   "source": [
    "l =[]\n",
    "l.append(10)\n",
    "l.append(20)\n",
    "l.append(30)\n",
    "l.append(40)\n",
    "l.append(50)\n",
    "print(l)\n",
    "l.pop(0)\n",
    "print(l)\n",
    "l.pop(0)\n",
    "print(l)\n",
    "l.pop(0)\n",
    "print(l)\n",
    "l.pop(0)\n",
    "print(l)\n",
    "l.pop(0)\n",
    "print(l)"
   ]
  },
  {
   "cell_type": "code",
   "execution_count": 11,
   "metadata": {},
   "outputs": [],
   "source": [
    "\n",
    "from _collections import deque"
   ]
  },
  {
   "cell_type": "code",
   "execution_count": 15,
   "metadata": {},
   "outputs": [
    {
     "name": "stdout",
     "output_type": "stream",
     "text": [
      "deque([10, 20, 30, 40, 50])\n",
      "deque([20, 30, 40, 50])\n",
      "deque([30, 40, 50])\n",
      "deque([40, 50])\n",
      "deque([50])\n",
      "deque([])\n"
     ]
    }
   ],
   "source": [
    "l = deque([])\n",
    "l.append(10)\n",
    "l.append(20)\n",
    "l.append(30)\n",
    "l.append(40)\n",
    "l.append(50)\n",
    "print(l)\n",
    "l.popleft()\n",
    "print(l)\n",
    "l.popleft()\n",
    "print(l)\n",
    "l.popleft()\n",
    "print(l)\n",
    "l.popleft()\n",
    "print(l)\n",
    "l.popleft()\n",
    "print(l)"
   ]
  },
  {
   "cell_type": "code",
   "execution_count": null,
   "metadata": {},
   "outputs": [],
   "source": []
  }
 ],
 "metadata": {
  "kernelspec": {
   "display_name": "Python 3",
   "language": "python",
   "name": "python3"
  },
  "language_info": {
   "codemirror_mode": {
    "name": "ipython",
    "version": 3
   },
   "file_extension": ".py",
   "mimetype": "text/x-python",
   "name": "python",
   "nbconvert_exporter": "python",
   "pygments_lexer": "ipython3",
   "version": "3.10.7"
  }
 },
 "nbformat": 4,
 "nbformat_minor": 2
}
