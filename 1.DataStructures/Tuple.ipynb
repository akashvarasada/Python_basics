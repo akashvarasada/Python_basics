{
 "cells": [
  {
   "cell_type": "code",
   "execution_count": null,
   "metadata": {},
   "outputs": [],
   "source": [
    "# Tuple\n",
    "# is a list of mixed(int,str) datatype objects.\n",
    "# have () brackets\n",
    "# is imutable however they can contain mutable objects: (Loop-hole)\n",
    "# can not change the inside objects in run time.\n",
    "# objects of tuple can be reversed."
   ]
  },
  {
   "cell_type": "code",
   "execution_count": 7,
   "metadata": {},
   "outputs": [
    {
     "name": "stdout",
     "output_type": "stream",
     "text": [
      "False\n",
      "True\n"
     ]
    }
   ],
   "source": [
    "# Checking if an Item Exists in the Tuple:\n",
    "# Use the in keyword to check if an item exists in the tuple:\n",
    "\n",
    "colors = ('red', 'orange', 'blue')\n",
    "print('yellow' in colors)\n",
    "print('red' in colors)"
   ]
  },
  {
   "cell_type": "code",
   "execution_count": 8,
   "metadata": {},
   "outputs": [
    {
     "name": "stdout",
     "output_type": "stream",
     "text": [
      "apple\n",
      "banana\n",
      "orange\n"
     ]
    }
   ],
   "source": [
    "# Iterating Through a Tuple:\n",
    "# Use a for loop to iterate over tuple items:\n",
    "\n",
    "fruits = ('apple', 'banana', 'orange')\n",
    "for fruit in fruits:\n",
    "    print(fruit)"
   ]
  },
  {
   "cell_type": "code",
   "execution_count": 9,
   "metadata": {},
   "outputs": [
    {
     "name": "stdout",
     "output_type": "stream",
     "text": [
      "Total Items: 4\n"
     ]
    }
   ],
   "source": [
    "# Tuple Length:\n",
    "# Use the len() function to find the number of items in a tuple:\n",
    "\n",
    "cars = ('BMW', 'Tesla', 'Ford', 'Toyota')\n",
    "print('Total Items:', len(cars))"
   ]
  },
  {
   "cell_type": "code",
   "execution_count": 1,
   "metadata": {},
   "outputs": [
    {
     "name": "stdout",
     "output_type": "stream",
     "text": [
      "(10, 20, 30)\n"
     ]
    }
   ],
   "source": [
    "# Converting a List to a Tuple:\n",
    "# You can convert a list to a tuple using the tuple() constructor:\n",
    "\n",
    "my_list = [10, 20, 30]\n",
    "my_tuple = tuple(my_list)\n",
    "print(my_tuple)"
   ]
  },
  {
   "cell_type": "code",
   "execution_count": 2,
   "metadata": {},
   "outputs": [
    {
     "name": "stdout",
     "output_type": "stream",
     "text": [
      "Max Temp: 30\n",
      "Min Temp: 18\n"
     ]
    }
   ],
   "source": [
    "# Finding the Maximum and Minimum Values:\n",
    "# Use max() and min() functions to find the maximum and minimum values in a tuple\n",
    "\n",
    "temperatures = (25, 30, 18, 22)\n",
    "print('Max Temp:', max(temperatures))\n",
    "print('Min Temp:', min(temperatures))"
   ]
  },
  {
   "cell_type": "code",
   "execution_count": 3,
   "metadata": {},
   "outputs": [
    {
     "name": "stdout",
     "output_type": "stream",
     "text": [
      "(2, 3, 4)\n"
     ]
    }
   ],
   "source": [
    "# Slicing Tuples:\n",
    "# Extract a portion of a tuple using slicing:\n",
    "\n",
    "numbers = (1, 2, 3, 4, 5)\n",
    "sliced_numbers = numbers[1:4]\n",
    "print(sliced_numbers)"
   ]
  },
  {
   "cell_type": "code",
   "execution_count": 5,
   "metadata": {},
   "outputs": [
    {
     "name": "stdout",
     "output_type": "stream",
     "text": [
      "('hello', 'hello', 'hello')\n"
     ]
    }
   ],
   "source": [
    "# Repeating Tuples:\n",
    "# You can repeat a tuple using the * operator:\n",
    "\n",
    "repeated_tuple = ('hello',) * 3\n",
    "print(repeated_tuple)"
   ]
  },
  {
   "cell_type": "code",
   "execution_count": 6,
   "metadata": {},
   "outputs": [
    {
     "name": "stdout",
     "output_type": "stream",
     "text": [
      "(1, 2, 'a', 'b')\n"
     ]
    }
   ],
   "source": [
    "# Concatenating Tuples:\n",
    "# You can concatenate two or more tuples using the + operator:\n",
    "\n",
    "tuple1 = (1, 2)\n",
    "tuple2 = ('a', 'b')\n",
    "combined_tuple = tuple1 + tuple2\n",
    "print(combined_tuple)"
   ]
  },
  {
   "cell_type": "code",
   "execution_count": 3,
   "metadata": {},
   "outputs": [
    {
     "data": {
      "text/plain": [
       "3"
      ]
     },
     "execution_count": 3,
     "metadata": {},
     "output_type": "execute_result"
    }
   ],
   "source": [
    "# count & index functions\n",
    "\n",
    "t = (1,2,1.1,2.2,'Akash',True,'python',10,20,1,2)\n",
    "print(t.count(1)) # True is also considered as 1.\n",
    "print(t.index('Akash')) # gives index of inserted object if available in tuple."
   ]
  },
  {
   "cell_type": "code",
   "execution_count": null,
   "metadata": {},
   "outputs": [],
   "source": [
    "# Loop holes of tuple"
   ]
  },
  {
   "cell_type": "code",
   "execution_count": 12,
   "metadata": {},
   "outputs": [
    {
     "name": "stdout",
     "output_type": "stream",
     "text": [
      "(1, 2, 1.1, 2.2, 'Akash', True, 'python', [10, 20, 30], 20, 1, 2)\n",
      "[10, 20, 30]\n",
      "(1, 2, 1.1, 2.2, 'Akash', True, 'python', [10, 20, 30, 40], 20, 1, 2)\n"
     ]
    }
   ],
   "source": [
    "# tuple is imutable however they can contain mutable objects: (Loop-hole)\n",
    "\n",
    "tup = (1,2,1.1,2.2,'Akash',True,'python',[10,20,30],20,1,2)\n",
    "print(tup)\n",
    "print(tup[7])\n",
    "tup[7].append(40) #loop-hole of tuple. inside list is mutable.\n",
    "print(tup)"
   ]
  },
  {
   "cell_type": "code",
   "execution_count": 16,
   "metadata": {},
   "outputs": [
    {
     "name": "stdout",
     "output_type": "stream",
     "text": [
      "(1, 2, 3, 4, 5)\n",
      "(5, 4, 3, 2, 1)\n"
     ]
    }
   ],
   "source": [
    "# reversing Tuples:\n",
    "\n",
    "numbers = (1, 2, 3, 4, 5)\n",
    "print(numbers)\n",
    "numbers = numbers[::-1]\n",
    "print(numbers) # reversed"
   ]
  },
  {
   "cell_type": "code",
   "execution_count": 19,
   "metadata": {},
   "outputs": [
    {
     "name": "stdout",
     "output_type": "stream",
     "text": [
      "(10, 20, 30)\n",
      "(10, 20, 30, 40)\n"
     ]
    }
   ],
   "source": [
    "# modify objects of tuple.\n",
    "# You can convert a list to a tuple using the tuple() constructor:\n",
    "\n",
    "tup = (10, 20, 30)\n",
    "print(tup)\n",
    "my_list = list(tup)\n",
    "my_list.append(40)\n",
    "tup = tuple(my_list)\n",
    "print(tup)"
   ]
  },
  {
   "cell_type": "code",
   "execution_count": null,
   "metadata": {},
   "outputs": [],
   "source": []
  }
 ],
 "metadata": {
  "kernelspec": {
   "display_name": "Python 3",
   "language": "python",
   "name": "python3"
  },
  "language_info": {
   "codemirror_mode": {
    "name": "ipython",
    "version": 3
   },
   "file_extension": ".py",
   "mimetype": "text/x-python",
   "name": "python",
   "nbconvert_exporter": "python",
   "pygments_lexer": "ipython3",
   "version": "3.10.7"
  }
 },
 "nbformat": 4,
 "nbformat_minor": 2
}
