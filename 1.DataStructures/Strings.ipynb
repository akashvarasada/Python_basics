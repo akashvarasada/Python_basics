{
 "cells": [
  {
   "cell_type": "code",
   "execution_count": 1,
   "metadata": {},
   "outputs": [],
   "source": [
    "#10-Aug-24\n",
    "# String Operations"
   ]
  },
  {
   "cell_type": "code",
   "execution_count": 7,
   "metadata": {},
   "outputs": [
    {
     "name": "stdout",
     "output_type": "stream",
     "text": [
      "Akash\n",
      "A-k-a-s-h-"
     ]
    }
   ],
   "source": [
    "s = input(\"enter String:\")\n",
    "print(s)\n",
    "\n",
    "for i in s: # characters of string is iterable.\n",
    "    print(i, end=\"-\")"
   ]
  },
  {
   "cell_type": "code",
   "execution_count": 11,
   "metadata": {},
   "outputs": [
    {
     "name": "stdout",
     "output_type": "stream",
     "text": [
      "Akash @123-5\n",
      "{'upper': 1, 'lower': 4, 'alpha': 5, 'number': 4, 'space': 1, 'digit': 4, 'special characters': 2}\n"
     ]
    }
   ],
   "source": [
    "s = input(\"enter String:\")\n",
    "output = {\n",
    "    'upper': 0,\n",
    "    'lower': 0,\n",
    "    'alpha': 0,\n",
    "    'number': 0,\n",
    "    'space': 0,\n",
    "    'digit': 0,\n",
    "    'special characters': 0\n",
    "    }\n",
    "\n",
    "for i in s:\n",
    "    if i.isupper(): # Returns True if all characters in the string are uppercase.\n",
    "        output['upper'] = output['upper'] + 1\n",
    "    elif i.islower(): # Returns True if all characters in the string are lowercase.\n",
    "        output['lower'] = output['lower'] + 1\n",
    "    if i.isalpha(): # Returns True if all characters in the string are alphabetic.\n",
    "        output['alpha'] = output['alpha'] + 1\n",
    "    elif i.isnumeric(): # Returns True if all characters in the string are numbers.\n",
    "        output['number'] = output['number'] + 1\n",
    "    if i.isspace(): # Returns True if all characters in the string are space.\n",
    "        output['space'] = output['space'] + 1\n",
    "    if i.isdigit(): # Returns True if all characters in the string are digits.\n",
    "        output['digit'] = output['digit'] + 1\n",
    "    if not i.isalnum() and not i.isspace(): # Returns True if all characters in the string are alphanumeric (letters and digits).\n",
    "        output['special characters'] = output['special characters'] + 1\n",
    "        # anything that is not space or alpha numeric is special characters.\n",
    "print(s)\n",
    "print(output)"
   ]
  },
  {
   "cell_type": "code",
   "execution_count": null,
   "metadata": {},
   "outputs": [
    {
     "data": {
      "text/plain": [
       "[['banana'], ['loganberry'], ['passion', 'fruit']]"
      ]
     },
     "metadata": {},
     "output_type": "display_data"
    }
   ],
   "source": [
    "freshfruit = ['banana', 'loganberry', 'passion fruit']\n",
    "[fruit.split(' ') for fruit in freshfruit]"
   ]
  },
  {
   "cell_type": "code",
   "execution_count": null,
   "metadata": {},
   "outputs": [
    {
     "data": {
      "text/plain": [
       "['ananab', 'yrrebnagol', 'tiurf noissap']"
      ]
     },
     "metadata": {},
     "output_type": "display_data"
    }
   ],
   "source": [
    "# reverse string characters\n",
    "freshfruit = ['banana', 'loganberry', 'passion fruit']\n",
    "[fruit[::-1] for fruit in freshfruit]"
   ]
  },
  {
   "cell_type": "code",
   "execution_count": null,
   "metadata": {},
   "outputs": [
    {
     "data": {
      "text/plain": [
       "'ananab'"
      ]
     },
     "metadata": {},
     "output_type": "display_data"
    }
   ],
   "source": [
    "a = 'banana'\n",
    "a[::-1]"
   ]
  },
  {
   "cell_type": "code",
   "execution_count": null,
   "metadata": {},
   "outputs": [
    {
     "data": {
      "text/plain": [
       "['Banana', 'Loganberry', 'Passion Fruit']"
      ]
     },
     "metadata": {},
     "output_type": "display_data"
    }
   ],
   "source": [
    "# str.title()\n",
    "# Converts the first character of each word to uppercase and the rest to lowercase.\n",
    "freshfruit = ['banana', 'loganberry', 'passion fruit']\n",
    "[fruit.title() for fruit in freshfruit]"
   ]
  },
  {
   "cell_type": "code",
   "execution_count": null,
   "metadata": {},
   "outputs": [
    {
     "data": {
      "text/plain": [
       "['Banana', 'Loganberry', 'Passion fruit']"
      ]
     },
     "metadata": {},
     "output_type": "display_data"
    }
   ],
   "source": [
    "# str.capitalize()\n",
    "# Converts the first character to uppercase and the rest to lowercase.\n",
    "\n",
    "freshfruit = ['banana', 'loganberry', 'passion fruit']\n",
    "[fruit.capitalize() for fruit in freshfruit]"
   ]
  },
  {
   "cell_type": "code",
   "execution_count": null,
   "metadata": {},
   "outputs": [
    {
     "data": {
      "text/plain": [
       "['banana', 'loganberry', 'passion fruit']"
      ]
     },
     "metadata": {},
     "output_type": "display_data"
    }
   ],
   "source": [
    "# str.strip([chars])\n",
    "# Removes leading and trailing whitespace (or specified characters) from a string.\n",
    "freshfruit = ['  banana ', ' loganberry    ', '               passion fruit    ']\n",
    "[fruit.strip() for fruit in freshfruit]"
   ]
  },
  {
   "cell_type": "code",
   "execution_count": null,
   "metadata": {},
   "outputs": [
    {
     "data": {
      "text/plain": [
       "['banana', 'loganberry', '               passion- fruit']"
      ]
     },
     "metadata": {},
     "output_type": "display_data"
    }
   ],
   "source": [
    "# str.strip([chars])\n",
    "# Removes leading and trailing whitespace (or specified characters) from a string.\n",
    "freshfruit = ['---banana--', '----loganberry------', '               passion- fruit----']\n",
    "[fruit.strip('-') for fruit in freshfruit]"
   ]
  },
  {
   "cell_type": "code",
   "execution_count": null,
   "metadata": {},
   "outputs": [
    {
     "data": {
      "text/plain": [
       "['banana--', 'loganberry------', '               passion- fruit----']"
      ]
     },
     "metadata": {},
     "output_type": "display_data"
    }
   ],
   "source": [
    "# str.lstrip([chars])\n",
    "# Removes leading whitespace (or specified characters) from a string.\n",
    "freshfruit = ['---banana--', '----loganberry------', '               passion- fruit----']\n",
    "[fruit.lsstrip('-') for fruit in freshfruit]"
   ]
  },
  {
   "cell_type": "code",
   "execution_count": null,
   "metadata": {},
   "outputs": [
    {
     "data": {
      "text/plain": [
       "['---banana', '----loganberry', '               passion- fruit']"
      ]
     },
     "metadata": {},
     "output_type": "display_data"
    }
   ],
   "source": [
    "# str.rstrip([chars])\n",
    "# Removes trailing whitespace (or specified characters) from a string.\n",
    "freshfruit = ['---banana--', '----loganberry------', '               passion- fruit----']\n",
    "[fruit.rstrip('-') for fruit in freshfruit]"
   ]
  },
  {
   "cell_type": "code",
   "execution_count": null,
   "metadata": {},
   "outputs": [
    {
     "data": {
      "text/plain": [
       "[['one', 'banana'], ['two', 'loganberry'], ['three', 'passion', 'fruit----']]"
      ]
     },
     "metadata": {},
     "output_type": "display_data"
    }
   ],
   "source": [
    "# str.split([sep[, maxsplit]])\n",
    "# Splits the string into a list based on a delimiter.\n",
    "# The maxsplit argument specifies the maximum number of splits.\n",
    "\n",
    "freshfruit = ['one banana', 'two loganberry', '    three passion fruit----']\n",
    "[fruit.split() for fruit in freshfruit]"
   ]
  },
  {
   "cell_type": "code",
   "execution_count": null,
   "metadata": {},
   "outputs": [
    {
     "data": {
      "text/plain": [
       "[['one', 'banana'],\n",
       " ['two', 'loganberry'],\n",
       " ['', '', '', '', 'three', 'passion', 'fruit----']]"
      ]
     },
     "metadata": {},
     "output_type": "display_data"
    }
   ],
   "source": [
    "# str.split([sep[, maxsplit]])\n",
    "# Splits the string into a list based on a delimiter.\n",
    "# The maxsplit argument specifies the maximum number of splits.\n",
    "\n",
    "freshfruit = ['one banana', 'two loganberry', '    three passion fruit----']\n",
    "[fruit.split(\" \") for fruit in freshfruit]"
   ]
  },
  {
   "cell_type": "code",
   "execution_count": null,
   "metadata": {},
   "outputs": [
    {
     "data": {
      "text/plain": [
       "[['one b', 'n', 'n', ''],\n",
       " ['two log', 'nberry'],\n",
       " ['    three p', 'ssion fruit----']]"
      ]
     },
     "metadata": {},
     "output_type": "display_data"
    }
   ],
   "source": [
    "# str.split([sep[, maxsplit]])\n",
    "# Splits the string into a list based on a delimiter.\n",
    "# The maxsplit argument specifies the maximum number of splits.\n",
    "\n",
    "freshfruit = ['one banana', 'two loganberry', '    three passion fruit----']\n",
    "[fruit.split(\"a\") for fruit in freshfruit]"
   ]
  },
  {
   "cell_type": "code",
   "execution_count": 13,
   "metadata": {},
   "outputs": [
    {
     "data": {
      "text/plain": [
       "[['one b', 'n', 'na'],\n",
       " ['two log', 'nberry'],\n",
       " ['    three p', 'ssion fruit----']]"
      ]
     },
     "execution_count": 13,
     "metadata": {},
     "output_type": "execute_result"
    }
   ],
   "source": [
    "# str.split([sep[, maxsplit]])\n",
    "# Splits the string into a list based on a delimiter.\n",
    "# The maxsplit argument specifies the maximum number of splits.\n",
    "\n",
    "freshfruit = ['one banana', 'two loganberry', '    three passion fruit----']\n",
    "[fruit.split('a',maxsplit= 2) for fruit in freshfruit]"
   ]
  },
  {
   "cell_type": "code",
   "execution_count": null,
   "metadata": {},
   "outputs": [
    {
     "data": {
      "text/plain": [
       "'one bananatwo loganberry    three passion fruit----'"
      ]
     },
     "metadata": {},
     "output_type": "display_data"
    }
   ],
   "source": [
    "# str.join(iterable)\n",
    "# Joins the elements of an iterable (like a list) into a single string,\n",
    "# separated by the string it was called on.\n",
    "\n",
    "freshfruit = ['one banana', 'two loganberry', '    three passion fruit----']\n",
    "''.join(freshfruit)\n"
   ]
  },
  {
   "cell_type": "code",
   "execution_count": null,
   "metadata": {},
   "outputs": [
    {
     "data": {
      "text/plain": [
       "'one banana_*_two loganberry_*_three passion fruit'"
      ]
     },
     "metadata": {},
     "output_type": "display_data"
    }
   ],
   "source": [
    "# str.join(iterable)\n",
    "# Joins the elements of an iterable (like a list) into a single string,\n",
    "# separated by the string it was called on.\n",
    "\n",
    "freshfruit = ['one banana', 'two loganberry', 'three passion fruit']\n",
    "'_*_'.join(freshfruit)"
   ]
  },
  {
   "cell_type": "code",
   "execution_count": null,
   "metadata": {},
   "outputs": [
    {
     "data": {
      "text/plain": [
       "'F_*_r_*_u_*_i_*_t'"
      ]
     },
     "metadata": {},
     "output_type": "display_data"
    }
   ],
   "source": [
    "# str.join(iterable)\n",
    "# Joins the elements of an iterable (like a list) into a single string,\n",
    "# separated by the string it was called on.\n",
    "\n",
    "'_*_'.join(\"Fruit\")"
   ]
  },
  {
   "cell_type": "code",
   "execution_count": null,
   "metadata": {},
   "outputs": [
    {
     "name": "stdout",
     "output_type": "stream",
     "text": [
      "4\n",
      "-1\n",
      "-1\n"
     ]
    }
   ],
   "source": [
    "# str.find(sub[, start[, end]])\n",
    "# Returns the lowest index in the string where the substring sub is found.\n",
    "# Returns -1 if not found.\n",
    "\n",
    "freshfruit = 'one banana two loganberry three passion fruit'\n",
    "print(freshfruit.find('banana'))\n",
    "print(freshfruit.find('Banana')) # case sensitive , -1\n",
    "print(freshfruit.find('Mango'))  # not found , -1\n"
   ]
  },
  {
   "cell_type": "code",
   "execution_count": null,
   "metadata": {},
   "outputs": [
    {
     "name": "stdout",
     "output_type": "stream",
     "text": [
      "one banana two loganberry three passion fruit\n",
      "one Mango two loganberry three passion fruit\n"
     ]
    }
   ],
   "source": [
    "# str.replace(old, new[, count])\n",
    "# Replaces occurrences of the substring old with new.\n",
    "# The optional count argument specifies the number of occurrences to replace.\n",
    "\n",
    "freshfruit = 'one banana two loganberry three passion fruit'\n",
    "print(freshfruit.replace('Banana','Mango')) # case sensitive, no replacements.\n",
    "print(freshfruit.replace('banana','Mango')) # replacements"
   ]
  },
  {
   "cell_type": "code",
   "execution_count": null,
   "metadata": {},
   "outputs": [
    {
     "name": "stdout",
     "output_type": "stream",
     "text": [
      "False\n",
      "True\n"
     ]
    }
   ],
   "source": [
    "# str.startswith(prefix[, start[, end]])\n",
    "# Returns True if the string starts with the specified prefix, otherwise False.\n",
    "freshfruit = 'one banana two loganberry three passion fruit'\n",
    "print(freshfruit.startswith('On')) # case sensitive\n",
    "print(freshfruit.startswith('on'))\n"
   ]
  },
  {
   "cell_type": "code",
   "execution_count": null,
   "metadata": {},
   "outputs": [
    {
     "name": "stdout",
     "output_type": "stream",
     "text": [
      "False\n",
      "True\n"
     ]
    }
   ],
   "source": [
    "# str.endswith(suffix[, start[, end]])\n",
    "# Returns True if the string ends with the specified suffix, otherwise False.\n",
    "freshfruit = 'one banana two loganberry three passion fruit'\n",
    "print(freshfruit.endswith('IT')) # case sensitive\n",
    "print(freshfruit.endswith('it'))"
   ]
  },
  {
   "cell_type": "code",
   "execution_count": null,
   "metadata": {},
   "outputs": [
    {
     "name": "stdout",
     "output_type": "stream",
     "text": [
      "00042\n"
     ]
    }
   ],
   "source": [
    "# str.zfill(width)\n",
    "# Pads the string with zeros on the left until it reaches the specified width.\n",
    "text = '42'\n",
    "print(text.zfill(5))"
   ]
  }
 ],
 "metadata": {
  "kernelspec": {
   "display_name": "Python 3",
   "language": "python",
   "name": "python3"
  },
  "language_info": {
   "codemirror_mode": {
    "name": "ipython",
    "version": 3
   },
   "file_extension": ".py",
   "mimetype": "text/x-python",
   "name": "python",
   "nbconvert_exporter": "python",
   "pygments_lexer": "ipython3",
   "version": "3.10.7"
  }
 },
 "nbformat": 4,
 "nbformat_minor": 2
}
