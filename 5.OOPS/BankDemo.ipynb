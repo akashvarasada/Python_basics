{
 "cells": [
  {
   "cell_type": "code",
   "execution_count": null,
   "metadata": {},
   "outputs": [],
   "source": [
    "class Bank:\n",
    "\n",
    "    def openaccount(self,cname,acno,balance):\n",
    "        self.customername = cname\n",
    "        self.accountnumber = acno\n",
    "        self.balance = balance\n",
    "        print(\"Hello Welcome \",self.customername,\". Your account has been opened with \",self.balance,\"INR\")\n",
    "\n",
    "    def deposit(self,depositamount):\n",
    "        self.balance = self.balance + depositamount\n",
    "        print(depositamount,\" has been deposited into you account \",self.accountnumber)\n",
    "        print(\"Your account balance is \",self.balance)\n",
    "\n",
    "    def withdraw(self,withdrawalamount):\n",
    "        if withdrawalamount <= self.balance:\n",
    "            self.balance = self.balance - withdrawalamount\n",
    "            print(withdrawalamount,\" has been debited from you account \",self.accountnumber)\n",
    "            print(\"Your account balance is \",self.balance)\n",
    "        else:\n",
    "            print(\"Sorry insufficient balance.\")\n",
    "\n",
    "    def checkbalance(self):\n",
    "        print(\"Your account balance is \",self.balance)\n"
   ]
  },
  {
   "cell_type": "code",
   "execution_count": null,
   "metadata": {},
   "outputs": [],
   "source": [
    "b1 = Bank()\n",
    "b1.openaccount(\"Akash\",101,1000)"
   ]
  },
  {
   "cell_type": "code",
   "execution_count": null,
   "metadata": {},
   "outputs": [],
   "source": [
    "while True:\n",
    "    print(\"*\"*30)\n",
    "    print(\"Welcome to ABC Bank\")\n",
    "    print(\"Select any of the below services by entering the index number.\")\n",
    "    print(\"1. Deposit\")\n",
    "    print(\"2. Withdraw\")\n",
    "    print(\"3. Check Balance\")\n",
    "    print(\"4. Exit\")\n",
    "    print(\"*\"*30)\n",
    "\n",
    "    choice = int(input(\"Enter the service number.\"))\n",
    "    if choice == 1:\n",
    "        depositamount = int(input(\"Enter the deposit amount : \"))\n",
    "        b1.deposit(depositamount)\n",
    "        print(\"*\"*30)\n",
    "    elif choice == 2:\n",
    "        withdrawalamount = int(input(\"Enter the withdrawal amount: \"))\n",
    "        b1.withdraw(withdrawalamount)\n",
    "        print(\"*\"*30)\n",
    "    elif choice == 3:\n",
    "        b1.checkbalance()\n",
    "        print(\"*\"*30)\n",
    "    elif choice == 4:\n",
    "        print(\"Thank you for using the ABC banking services.\")\n",
    "        print(\"*\"*30)\n",
    "        break\n",
    "    else:\n",
    "        print(\"Invalid Choice, Please try again\")\n"
   ]
  },
  {
   "cell_type": "code",
   "execution_count": null,
   "metadata": {},
   "outputs": [],
   "source": []
  },
  {
   "cell_type": "code",
   "execution_count": null,
   "metadata": {},
   "outputs": [],
   "source": []
  },
  {
   "cell_type": "code",
   "execution_count": null,
   "metadata": {},
   "outputs": [],
   "source": []
  },
  {
   "cell_type": "code",
   "execution_count": null,
   "metadata": {},
   "outputs": [],
   "source": []
  },
  {
   "cell_type": "code",
   "execution_count": null,
   "metadata": {},
   "outputs": [],
   "source": []
  },
  {
   "cell_type": "code",
   "execution_count": null,
   "metadata": {},
   "outputs": [],
   "source": []
  },
  {
   "cell_type": "code",
   "execution_count": null,
   "metadata": {},
   "outputs": [],
   "source": []
  },
  {
   "cell_type": "code",
   "execution_count": null,
   "metadata": {},
   "outputs": [],
   "source": []
  },
  {
   "cell_type": "code",
   "execution_count": null,
   "metadata": {},
   "outputs": [],
   "source": []
  }
 ],
 "metadata": {
  "kernelspec": {
   "display_name": "Python 3",
   "language": "python",
   "name": "python3"
  },
  "language_info": {
   "codemirror_mode": {
    "name": "ipython",
    "version": 3
   },
   "file_extension": ".py",
   "mimetype": "text/x-python",
   "name": "python",
   "nbconvert_exporter": "python",
   "pygments_lexer": "ipython3",
   "version": "3.10.7"
  }
 },
 "nbformat": 4,
 "nbformat_minor": 2
}
