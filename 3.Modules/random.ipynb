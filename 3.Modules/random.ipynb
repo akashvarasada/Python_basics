{
 "cells": [
  {
   "cell_type": "code",
   "execution_count": null,
   "metadata": {},
   "outputs": [],
   "source": [
    "# 12-Aug-24"
   ]
  },
  {
   "cell_type": "code",
   "execution_count": null,
   "metadata": {},
   "outputs": [
    {
     "name": "stdout",
     "output_type": "stream",
     "text": [
      "20\n"
     ]
    }
   ],
   "source": [
    "# random module\n",
    "import random\n",
    "\n",
    "# random int from range\n",
    "print(random.randint(1,100))"
   ]
  },
  {
   "cell_type": "code",
   "execution_count": null,
   "metadata": {},
   "outputs": [
    {
     "name": "stdout",
     "output_type": "stream",
     "text": [
      "3\n"
     ]
    }
   ],
   "source": [
    "# random from list\n",
    "print(random.choice([1,2,3,4,5,6,'python',2024]))"
   ]
  },
  {
   "cell_type": "code",
   "execution_count": null,
   "metadata": {},
   "outputs": [
    {
     "name": "stdout",
     "output_type": "stream",
     "text": [
      "[1, 2, 3, 4, 5, 6, 8, 9, 10, 11, 12, 13, 14, 16, 17, 18, 19, 20, 21, 22, 23, 24, 25, 26, 27, 28, 29, 30, 31, 33, 34, 35, 36, 37, 38, 39, 40, 41, 42, 43, 44, 45, 47, 48, 49, 50, 51, 52, 54, 55, 56, 57, 58, 59, 60, 61, 62, 64, 65, 66, 67, 68, 70, 72, 73, 74, 75, 76, 77, 78, 80, 81, 82, 83, 84, 85, 86, 88, 89, 90, 91, 92, 93, 94, 95, 96, 97, 98, 99, 100]\n",
      "[63, 53, 15, 46, 79, 71, 32, 87, 69, 7]\n"
     ]
    }
   ],
   "source": [
    "# Create a Python program to:\n",
    "\n",
    "# Populate a list l with numbers from 1 to 100.\n",
    "# Randomly select 10 unique numbers from l, add them to a list lucky, and remove them from l.\n",
    "# Print both lists l and lucky.\n",
    "\n",
    "\n",
    "l =[] # add 1 to 100 number in l.\n",
    "lucky = [] # pick 10 random lucky number draw in lucky list.\n",
    "\n",
    "for i in range(1,101):\n",
    "    l.append(i)\n",
    "\n",
    "\n",
    "for i in range(10):\n",
    "    num = random.choice(l)\n",
    "    lucky.append(num)\n",
    "    l.remove(num)\n",
    "\n",
    "print(l)\n",
    "print(lucky)\n"
   ]
  },
  {
   "cell_type": "code",
   "execution_count": null,
   "metadata": {},
   "outputs": [
    {
     "name": "stdout",
     "output_type": "stream",
     "text": [
      "You guessed a smaller number\n",
      "You guessed a smaller number\n",
      "You guessed a greater number\n",
      "You guessed a smaller number\n",
      "You guessed a smaller number\n",
      "You guessed a correct number\n"
     ]
    }
   ],
   "source": [
    "# guessing a number game with while loop\n",
    "\n",
    "num = random.randint(1,20)\n",
    "\n",
    "while True:\n",
    "    guess = int(input(\"Guess a number between 1 to 20 : \"))\n",
    "    if guess == num:\n",
    "        print(\"You guessed a correct number\")\n",
    "        break\n",
    "    elif guess > num:\n",
    "        print(\"You guessed a greater number\")\n",
    "    elif guess < num:\n",
    "        print(\"You guessed a smaller number\")"
   ]
  },
  {
   "cell_type": "code",
   "execution_count": null,
   "metadata": {},
   "outputs": [
    {
     "name": "stdout",
     "output_type": "stream",
     "text": [
      "You guessed a smaller number\n",
      "You guessed a smaller number\n",
      "You guessed a smaller number\n",
      "You guessed a smaller number\n",
      "You guessed a smaller number\n",
      "You guessed a greater number\n",
      "You guessed a greater number\n",
      "You guessed a correct number\n"
     ]
    }
   ],
   "source": [
    "# guessing a number game with for loop.\n",
    "\n",
    "num = random.randint(1,20)\n",
    "\n",
    "for i in range(100): # going to give 100 interactions.\n",
    "    guess = int(input(\"Guess a number between 1 to 20 : \"))\n",
    "    if guess == num:\n",
    "        print(\"You guessed a correct number\")\n",
    "        break\n",
    "    elif guess > num:\n",
    "        print(\"You guessed a greater number\")\n",
    "    elif guess < num:\n",
    "        print(\"You guessed a smaller number\")"
   ]
  },
  {
   "cell_type": "code",
   "execution_count": null,
   "metadata": {},
   "outputs": [],
   "source": []
  }
 ],
 "metadata": {
  "language_info": {
   "name": "python"
  }
 },
 "nbformat": 4,
 "nbformat_minor": 2
}
