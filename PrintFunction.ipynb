{
 "cells": [
  {
   "cell_type": "markdown",
   "metadata": {},
   "source": [
    "print() Parameters\n",
    "*objects – indicates one or more values/objects to be printed. It is converted to string before printing.\n",
    "\n",
    "sep (Optional) – this specifies how objects should be separated if multiple objects are passed. Default value: ‘ ‘\n",
    "\n",
    "end (Optional) – specifies what is to be printed at last. Default value: \\n\n",
    "\n",
    "file (Optional) – object with a write(string) method. Default value: sys.stdout\n",
    "\n",
    "flush (Optional) – A Boolean indicating whether if the stream/output is flushed (True) or buffered (False). Default value: False"
   ]
  },
  {
   "cell_type": "code",
   "execution_count": 2,
   "metadata": {},
   "outputs": [
    {
     "name": "stdout",
     "output_type": "stream",
     "text": [
      "0 1 2 3 4 5 6 7 8 9 10 11 12 13 14 15 16 17 18 19 20 21 22 23 24 25\n"
     ]
    }
   ],
   "source": [
    "import sys\n",
    "objects = [i for i in range(26)]\n",
    "print(*objects, sep = ' ', end = '\\n', file = sys.stdout, flush = False)"
   ]
  },
  {
   "cell_type": "code",
   "execution_count": 1,
   "metadata": {},
   "outputs": [
    {
     "name": "stdout",
     "output_type": "stream",
     "text": [
      "0 1 2 3 4 5 6 7 8 9 10 11 12 13 14 15 16 17 18 19 20 21 22 23 24 25\t"
     ]
    }
   ],
   "source": [
    "import sys\n",
    "objects = [i for i in range(26)]\n",
    "print(*objects, sep = ' ', end = '\\t', file = sys.stdout, flush = False)"
   ]
  },
  {
   "cell_type": "code",
   "execution_count": 3,
   "metadata": {},
   "outputs": [
    {
     "name": "stdout",
     "output_type": "stream",
     "text": [
      "0 1 2 3 4 5 6 7 8 9 10 11 12 13 14 15 16 17 18 19 20 21 22 23 24 25\n",
      "\n",
      "\n"
     ]
    }
   ],
   "source": [
    "import sys\n",
    "objects = [i for i in range(26)]\n",
    "print(*objects, sep = ' ', end = '\\n\\n\\n', file = sys.stdout, flush = False)"
   ]
  },
  {
   "cell_type": "code",
   "execution_count": 4,
   "metadata": {},
   "outputs": [
    {
     "name": "stdout",
     "output_type": "stream",
     "text": [
      "0-1-2-3-4-5-6-7-8-9-10-11-12-13-14-15-16-17-18-19-20-21-22-23-24-25\n",
      "\n",
      "\n"
     ]
    }
   ],
   "source": [
    "import sys\n",
    "objects = [i for i in range(26)]\n",
    "print(*objects, sep = '-', end = '\\n\\n\\n', file = sys.stdout, flush = False)"
   ]
  },
  {
   "cell_type": "code",
   "execution_count": null,
   "metadata": {},
   "outputs": [],
   "source": []
  },
  {
   "cell_type": "markdown",
   "metadata": {},
   "source": [
    "\\n — “new line”\n",
    "\\t — “tab”\n",
    "\\r — “carriage return”\n",
    "\\0 — “NULL”\n",
    "\\a — Bell or Beep\n",
    "\\b — Backspace\n",
    "\\f — Form Feed\n",
    "\\’ Single Quote\n",
    "\\” Double Quote"
   ]
  },
  {
   "cell_type": "code",
   "execution_count": 9,
   "metadata": {},
   "outputs": [
    {
     "name": "stdout",
     "output_type": "stream",
     "text": [
      "0 1 2 3 4 5 6 7 8 9 10 11 12 13 14 15 16 17 18 19 20 21 22 23 24 25\u0007"
     ]
    }
   ],
   "source": [
    "import sys\n",
    "objects = [i for i in range(26)]\n",
    "print(*objects, sep = ' ', end = '\\a', file = sys.stdout, flush = False)"
   ]
  },
  {
   "cell_type": "code",
   "execution_count": 16,
   "metadata": {},
   "outputs": [
    {
     "name": "stdout",
     "output_type": "stream",
     "text": [
      "0 1 2 3 4 5 6 7 8 9 10 11 12 13 14 15 16 17 18 19 20 21 22 23 24 25'"
     ]
    }
   ],
   "source": [
    "import sys\n",
    "objects = [i for i in range(26)]\n",
    "print(*objects, sep = ' ', end = '\\'', file = sys.stdout, flush = False)"
   ]
  },
  {
   "cell_type": "code",
   "execution_count": 17,
   "metadata": {},
   "outputs": [
    {
     "name": "stdout",
     "output_type": "stream",
     "text": [
      "0 1 2 3 4 5 6 7 8 9 10 11 12 13 14 15 16 17 18 19 20 21 22 23 24 25\""
     ]
    }
   ],
   "source": [
    "import sys\n",
    "objects = [i for i in range(26)]\n",
    "print(*objects, sep = ' ', end = '\\\"', file = sys.stdout, flush = False)"
   ]
  },
  {
   "cell_type": "code",
   "execution_count": 20,
   "metadata": {},
   "outputs": [
    {
     "name": "stdout",
     "output_type": "stream",
     "text": [
      "0 1 2 3 4 5 6 7 8 9 10 11 12 13 14 15 16 17 18 19 20 21 22 23 24 2"
     ]
    }
   ],
   "source": [
    "import sys\n",
    "objects = [i for i in range(26)]\n",
    "print(*objects, sep = ' ', end = '\\b', file = sys.stdout, flush = False)\n",
    "# b = backslash so last char is removed 25 became 2"
   ]
  },
  {
   "cell_type": "code",
   "execution_count": null,
   "metadata": {},
   "outputs": [],
   "source": []
  },
  {
   "cell_type": "code",
   "execution_count": null,
   "metadata": {},
   "outputs": [],
   "source": []
  },
  {
   "cell_type": "code",
   "execution_count": null,
   "metadata": {},
   "outputs": [],
   "source": []
  },
  {
   "cell_type": "code",
   "execution_count": null,
   "metadata": {},
   "outputs": [],
   "source": []
  },
  {
   "cell_type": "code",
   "execution_count": null,
   "metadata": {},
   "outputs": [],
   "source": []
  },
  {
   "cell_type": "code",
   "execution_count": null,
   "metadata": {},
   "outputs": [],
   "source": []
  },
  {
   "cell_type": "code",
   "execution_count": null,
   "metadata": {},
   "outputs": [],
   "source": []
  },
  {
   "cell_type": "code",
   "execution_count": null,
   "metadata": {},
   "outputs": [],
   "source": []
  },
  {
   "cell_type": "code",
   "execution_count": null,
   "metadata": {},
   "outputs": [],
   "source": []
  },
  {
   "cell_type": "code",
   "execution_count": null,
   "metadata": {},
   "outputs": [],
   "source": []
  },
  {
   "cell_type": "code",
   "execution_count": null,
   "metadata": {},
   "outputs": [],
   "source": []
  },
  {
   "cell_type": "code",
   "execution_count": null,
   "metadata": {},
   "outputs": [],
   "source": []
  },
  {
   "cell_type": "markdown",
   "metadata": {},
   "source": []
  }
 ],
 "metadata": {
  "kernelspec": {
   "display_name": "Python 3",
   "language": "python",
   "name": "python3"
  },
  "language_info": {
   "codemirror_mode": {
    "name": "ipython",
    "version": 3
   },
   "file_extension": ".py",
   "mimetype": "text/x-python",
   "name": "python",
   "nbconvert_exporter": "python",
   "pygments_lexer": "ipython3",
   "version": "3.10.7"
  }
 },
 "nbformat": 4,
 "nbformat_minor": 2
}
