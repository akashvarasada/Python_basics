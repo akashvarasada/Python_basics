{
 "cells": [
  {
   "cell_type": "code",
   "execution_count": 2,
   "metadata": {},
   "outputs": [],
   "source": [
    "# 14-Aug-24\n",
    "# File management"
   ]
  },
  {
   "cell_type": "code",
   "execution_count": 1,
   "metadata": {},
   "outputs": [
    {
     "name": "stdout",
     "output_type": "stream",
     "text": [
      "<_io.TextIOWrapper name='newfile.txt' mode='w' encoding='cp1252'>\n"
     ]
    }
   ],
   "source": [
    "file = open(\"newfile.txt\",\"w\")\n",
    "print(file)"
   ]
  },
  {
   "cell_type": "code",
   "execution_count": 2,
   "metadata": {},
   "outputs": [
    {
     "name": "stdout",
     "output_type": "stream",
     "text": [
      "<_io.TextIOWrapper name='newfile.txt' mode='w' encoding='cp1252'>\n",
      "File written successfully\n"
     ]
    }
   ],
   "source": [
    "file = open(\"newfile.txt\",\"w\")\n",
    "print(file)\n",
    "file.write(\"Hello World!\")\n",
    "file.close()\n",
    "print('File written successfully')"
   ]
  },
  {
   "cell_type": "code",
   "execution_count": 4,
   "metadata": {},
   "outputs": [
    {
     "name": "stdout",
     "output_type": "stream",
     "text": [
      "File written successfully\n"
     ]
    }
   ],
   "source": [
    "file = open(\"newfile.txt\",\"a\") #append\n",
    "file.write(\"Hello World!\")\n",
    "file.close()\n",
    "print('File written successfully')"
   ]
  },
  {
   "cell_type": "code",
   "execution_count": 5,
   "metadata": {},
   "outputs": [
    {
     "name": "stdout",
     "output_type": "stream",
     "text": [
      "Hello World!Hello World!\n"
     ]
    }
   ],
   "source": [
    "file = open(\"newfile.txt\",\"r\") #read , that file should exist.\n",
    "print(file.read())\n",
    "file.close()"
   ]
  },
  {
   "cell_type": "code",
   "execution_count": 6,
   "metadata": {},
   "outputs": [
    {
     "name": "stdout",
     "output_type": "stream",
     "text": [
      "File written successfully\n"
     ]
    }
   ],
   "source": [
    "file = open(\"newfile2.txt\",\"a\") #append creates new file if that file does not exists.\n",
    "file.write(\"\\nHello World!\")\n",
    "file.close()\n",
    "print('File written successfully')"
   ]
  },
  {
   "cell_type": "code",
   "execution_count": 7,
   "metadata": {},
   "outputs": [
    {
     "name": "stdout",
     "output_type": "stream",
     "text": [
      "Current position of cursor: 36\n",
      "\n"
     ]
    }
   ],
   "source": [
    "# read-write >> r+\n",
    "# write-read >> w+\n",
    "\n",
    "file = open(\"newfile3.txt\",\"w+\")\n",
    "file.write(\"\\nThis is w+ mode in file operation.\")\n",
    "print(\"Current position of cursor:\",file.tell())\n",
    "# read only reads in forward direction and cursor is at 36th place after which nothing is written so read will give no output.\n",
    "print(file.read())\n",
    "file.close()\n"
   ]
  },
  {
   "cell_type": "code",
   "execution_count": 8,
   "metadata": {},
   "outputs": [
    {
     "name": "stdout",
     "output_type": "stream",
     "text": [
      "Current position of cursor: 36\n",
      "0\n",
      "\n",
      "This is w+ mode in file operation.\n"
     ]
    }
   ],
   "source": [
    "# read-write >> r+ (for read mode file should exist.)\n",
    "# write-read >> w+\n",
    "\n",
    "file = open(\"newfile3.txt\",\"w+\")\n",
    "file.write(\"\\nThis is w+ mode in file operation.\")\n",
    "print(\"Current position of cursor:\",file.tell())  # read only reads in forward direction and cursor is at 36th place after which nothing is written so read will give no output.\n",
    "print(file.seek(0)) # to send cursor at desired place.\n",
    "print(file.read())\n",
    "file.close()"
   ]
  },
  {
   "cell_type": "code",
   "execution_count": 9,
   "metadata": {},
   "outputs": [
    {
     "name": "stdout",
     "output_type": "stream",
     "text": [
      "Current position of cursor: 34\n",
      "4\n",
      " is w+ mode in file operation.\n"
     ]
    }
   ],
   "source": [
    "# read-write >> r+ (for read mode file should exist.)\n",
    "# write-read >> w+\n",
    "\n",
    "file = open(\"newfile3.txt\",\"w+\")\n",
    "file.write(\"This is w+ mode in file operation.\")\n",
    "print(\"Current position of cursor:\",file.tell())  # read only reads in forward direction and cursor is at 36th place after which nothing is written so read will give no output.\n",
    "print(file.seek(4)) # cursor sent to 5th place. So it will read whatever is written after 5th place.\n",
    "print(file.read())\n",
    "file.close()"
   ]
  },
  {
   "cell_type": "code",
   "execution_count": 10,
   "metadata": {},
   "outputs": [
    {
     "name": "stdout",
     "output_type": "stream",
     "text": [
      "90,13,28,4,48,27,73,16,4,96,\n",
      "['90', '13', '28', '4', '48', '27', '73', '16', '4', '96']\n",
      "Data file content\n",
      "90,13,28,4,48,27,73,16,4,96,\n",
      "Even file content\n",
      "90,28,4,48,16,4,96,\n",
      "Odd file content\n",
      "13,27,73,\n"
     ]
    }
   ],
   "source": [
    "# generate a text file with random 10 numbers from 1 to 100,\n",
    "# segregate odd and even numbers in individual text files.\n",
    "\n",
    "import random\n",
    "\n",
    "data = open(\"data.txt\",'w')\n",
    "for i in range(10):\n",
    "    data.write(str(random.randint(1,100))+\",\")\n",
    "data.close()\n",
    "\n",
    "data  = open('data.txt',\"r\")\n",
    "l = data.read()\n",
    "print(l)\n",
    "data.close()\n",
    "\n",
    "# categorize even odd from here\n",
    "data  = open('data.txt',\"r\")\n",
    "l = data.read().split(\",\")[:-1]\n",
    "print(l)\n",
    "even = open(\"even.txt\",\"w\")\n",
    "odd = open(\"odd.txt\",\"w\")\n",
    "\n",
    "for i in l:\n",
    "    if int(i)%2 == 0:   # int conversion is must. data is having strings.\n",
    "        even.write(i + \",\")\n",
    "    else:\n",
    "        odd.write(i + \",\")\n",
    "\n",
    "data.close()\n",
    "odd.close()\n",
    "even.close()\n",
    "\n",
    "print(\"Data file content\")\n",
    "data = open(\"data.txt\",\"r\")\n",
    "print(data.read())\n",
    "data.close()\n",
    "\n",
    "print(\"Even file content\")\n",
    "data = open(\"even.txt\",\"r\")\n",
    "print(data.read())\n",
    "data.close()\n",
    "\n",
    "print(\"Odd file content\")\n",
    "data = open(\"odd.txt\",\"r\")\n",
    "print(data.read())\n",
    "data.close()\n"
   ]
  },
  {
   "cell_type": "code",
   "execution_count": null,
   "metadata": {},
   "outputs": [],
   "source": []
  }
 ],
 "metadata": {
  "kernelspec": {
   "display_name": "Python 3",
   "language": "python",
   "name": "python3"
  },
  "language_info": {
   "codemirror_mode": {
    "name": "ipython",
    "version": 3
   },
   "file_extension": ".py",
   "mimetype": "text/x-python",
   "name": "python",
   "nbconvert_exporter": "python",
   "pygments_lexer": "ipython3",
   "version": "3.10.7"
  }
 },
 "nbformat": 4,
 "nbformat_minor": 2
}
