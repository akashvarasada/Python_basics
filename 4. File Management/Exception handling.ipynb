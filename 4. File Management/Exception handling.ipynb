{
 "cells": [
  {
   "cell_type": "code",
   "execution_count": 1,
   "metadata": {},
   "outputs": [],
   "source": [
    "# An exeption is an abnormal condition that arises during the runtime of a programme.\n",
    "# the mechanism of handling exception is called excepion handling.\n",
    "# where there are 3 keywords are being used, `Try``,`Except` and `Finally`."
   ]
  },
  {
   "cell_type": "code",
   "execution_count": 6,
   "metadata": {},
   "outputs": [
    {
     "name": "stdout",
     "output_type": "stream",
     "text": [
      "start code\n",
      "a: 10\n",
      "b: 0\n"
     ]
    },
    {
     "ename": "ZeroDivisionError",
     "evalue": "division by zero",
     "output_type": "error",
     "traceback": [
      "\u001b[1;31m---------------------------------------------------------------------------\u001b[0m",
      "\u001b[1;31mZeroDivisionError\u001b[0m                         Traceback (most recent call last)",
      "Cell \u001b[1;32mIn[6], line 8\u001b[0m\n\u001b[0;32m      6\u001b[0m \u001b[38;5;28mprint\u001b[39m(\u001b[38;5;124m\"\u001b[39m\u001b[38;5;124ma:\u001b[39m\u001b[38;5;124m\"\u001b[39m,a)\n\u001b[0;32m      7\u001b[0m \u001b[38;5;28mprint\u001b[39m(\u001b[38;5;124m\"\u001b[39m\u001b[38;5;124mb:\u001b[39m\u001b[38;5;124m\"\u001b[39m,b)\n\u001b[1;32m----> 8\u001b[0m c \u001b[38;5;241m=\u001b[39m \u001b[43ma\u001b[49m\u001b[38;5;241;43m/\u001b[39;49m\u001b[43mb\u001b[49m\n\u001b[0;32m      9\u001b[0m \u001b[38;5;28mprint\u001b[39m(\u001b[38;5;124m\"\u001b[39m\u001b[38;5;124mc = a/b :\u001b[39m\u001b[38;5;124m\"\u001b[39m,c)\n\u001b[0;32m     11\u001b[0m \u001b[38;5;28mprint\u001b[39m(\u001b[38;5;124m\"\u001b[39m\u001b[38;5;124mend code\u001b[39m\u001b[38;5;124m\"\u001b[39m)\n",
      "\u001b[1;31mZeroDivisionError\u001b[0m: division by zero"
     ]
    }
   ],
   "source": [
    "print(\"start code\")\n",
    "\n",
    "a = int(input('a: '))\n",
    "b = int(input('b: '))\n",
    "\n",
    "print(\"a:\",a)\n",
    "print(\"b:\",b)\n",
    "c = a/b\n",
    "print(\"c = a/b :\",c)\n",
    "\n",
    "print(\"end code\")"
   ]
  },
  {
   "cell_type": "code",
   "execution_count": 17,
   "metadata": {},
   "outputs": [
    {
     "name": "stdout",
     "output_type": "stream",
     "text": [
      "start code\n",
      "a: 12\n",
      "b: 0\n",
      "Exception Caught:  division by zero\n",
      "end code\n"
     ]
    }
   ],
   "source": [
    "print(\"start code\")\n",
    "\n",
    "try:\n",
    "    a = int(input('a: '))\n",
    "    b = int(input('b: '))\n",
    "    Index = int(input(\"Enter Index: \"))\n",
    "    print(\"a:\",a)\n",
    "    print(\"b:\",b)\n",
    "    c = a/b\n",
    "    print(\"c = a/b :\",c)\n",
    "    l = [1,2,3,4]\n",
    "    print(l[Index])\n",
    "except ValueError as e:\n",
    "    print(\"Exception Caught: \",e)\n",
    "except ZeroDivisionError as e:\n",
    "    print(\"Exception Caught: \",e)\n",
    "except IndexError as e:\n",
    "    print(\"Exception Caught: \",e)\n",
    "\n",
    "print(\"end code\")"
   ]
  },
  {
   "cell_type": "code",
   "execution_count": 22,
   "metadata": {},
   "outputs": [
    {
     "name": "stdout",
     "output_type": "stream",
     "text": [
      "12 0 12\n",
      "Error Code: division by zero\n"
     ]
    }
   ],
   "source": [
    "\n",
    "a, b, Index = input().split()\n",
    "\n",
    "try:\n",
    "    l = [1,2,3,4]\n",
    "    print(a,b,Index)\n",
    "    print((int(a)/int(b)))\n",
    "    print(l[Index])\n",
    "\n",
    "\n",
    "except (ZeroDivisionError, ValueError, IndexError) as e: # it will catch the first instance of error.\n",
    "    print(\"Error Code:\", e)"
   ]
  },
  {
   "cell_type": "code",
   "execution_count": 24,
   "metadata": {},
   "outputs": [
    {
     "name": "stdout",
     "output_type": "stream",
     "text": [
      "start code\n",
      "a: 12\n",
      "b: 0\n",
      "Index: 12\n",
      "Exception Caught:  division by zero\n",
      "end code\n"
     ]
    }
   ],
   "source": [
    "print(\"start code\")\n",
    "try:\n",
    "    a = int(input('a: '))\n",
    "    b = int(input('b: '))\n",
    "    Index = int(input(\"Enter Index: \"))\n",
    "    print(\"a:\",a)\n",
    "    print(\"b:\",b)\n",
    "    print(\"Index:\",Index)\n",
    "    c = a/b\n",
    "    print(\"c = a/b :\",c)\n",
    "    l = [1,2,3,4]\n",
    "    print(l[Index])\n",
    "except (ValueError,ZeroDivisionError,IndexError) as e:\n",
    "    print(\"Exception Caught: \",e)\n",
    "print(\"end code\")"
   ]
  },
  {
   "cell_type": "code",
   "execution_count": null,
   "metadata": {},
   "outputs": [],
   "source": []
  }
 ],
 "metadata": {
  "kernelspec": {
   "display_name": "Python 3",
   "language": "python",
   "name": "python3"
  },
  "language_info": {
   "codemirror_mode": {
    "name": "ipython",
    "version": 3
   },
   "file_extension": ".py",
   "mimetype": "text/x-python",
   "name": "python",
   "nbconvert_exporter": "python",
   "pygments_lexer": "ipython3",
   "version": "3.10.7"
  }
 },
 "nbformat": 4,
 "nbformat_minor": 2
}
