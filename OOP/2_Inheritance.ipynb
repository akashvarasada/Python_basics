{
 "cells": [
  {
   "cell_type": "markdown",
   "metadata": {},
   "source": [
    "## Inheritance:\n",
    "object of one class can acquire the properties of objects of another class.\n",
    "\n",
    "creation of new class from an existing class is called Inheritance."
   ]
  },
  {
   "cell_type": "code",
   "execution_count": 36,
   "metadata": {},
   "outputs": [
    {
     "name": "stdout",
     "output_type": "stream",
     "text": [
      "A = 10\n"
     ]
    }
   ],
   "source": [
    "\n",
    "class A:\n",
    "    def getA(self,a):\n",
    "        self.a = a\n",
    "    def putA(self):\n",
    "        print(f\"A = {self.a}\")\n",
    "\n",
    "a1 = A()\n",
    "a1.getA(10)\n",
    "a1.putA()"
   ]
  },
  {
   "cell_type": "code",
   "execution_count": 38,
   "metadata": {},
   "outputs": [
    {
     "name": "stdout",
     "output_type": "stream",
     "text": [
      "A = 10\n",
      "B = 20\n"
     ]
    }
   ],
   "source": [
    "# Single inheritence\n",
    "class A:\n",
    "    def getA(self,a):\n",
    "        self.a = a\n",
    "    def putA(self):\n",
    "        print(f\"A = {self.a}\")\n",
    "\n",
    "class B(A):\n",
    "    def getB(self,b):\n",
    "        self.b = b\n",
    "    def putB(self):\n",
    "        print(f\"B = {self.b}\")\n",
    "\n",
    "b1 = B()\n",
    "b1.getA(10) # b1 is a instance of class B yet taking the methods of A. (getA, putA)\n",
    "b1.getB(20)\n",
    "b1.putA()  # b1 is a instance of class B yet taking the methods of A. (getA, putA)\n",
    "b1.putB()\n"
   ]
  },
  {
   "cell_type": "code",
   "execution_count": 40,
   "metadata": {},
   "outputs": [
    {
     "name": "stdout",
     "output_type": "stream",
     "text": [
      "A = 10\n",
      "B = 20\n",
      "C = 30\n"
     ]
    }
   ],
   "source": [
    "# Multilevel inheritance (A->B->C)\n",
    "class A:\n",
    "    def getA(self,a):\n",
    "        self.a = a\n",
    "    def putA(self):\n",
    "        print(f\"A = {self.a}\")\n",
    "\n",
    "class B(A):\n",
    "    def getB(self,b):\n",
    "        self.b = b\n",
    "    def putB(self):\n",
    "        print(f\"B = {self.b}\")\n",
    "\n",
    "class C(B):\n",
    "    def getC(self,c):\n",
    "        self.c = c\n",
    "    def putC(self):\n",
    "        print(f\"C = {self.c}\")\n",
    "\n",
    "c1 = C()\n",
    "c1.getA(10) # c1 is a instance of class C which are taking inheritance of B and B is taking inheritance of A.\n",
    "c1.getB(20)\n",
    "c1.getC(30)\n",
    "c1.putA()\n",
    "c1.putB()\n",
    "c1.putC()\n"
   ]
  },
  {
   "cell_type": "code",
   "execution_count": 42,
   "metadata": {},
   "outputs": [
    {
     "name": "stdout",
     "output_type": "stream",
     "text": [
      "A = 10\n",
      "B = 20\n",
      "D = 40\n"
     ]
    }
   ],
   "source": [
    "# Multiple inheritance ( A,B->C)\n",
    "\n",
    "class A:\n",
    "    def getA(self,a):\n",
    "        self.a = a\n",
    "    def putA(self):\n",
    "        print(f\"A = {self.a}\")\n",
    "\n",
    "class B:\n",
    "    def getB(self,b):\n",
    "        self.b = b\n",
    "    def putB(self):\n",
    "        print(f\"B = {self.b}\")\n",
    "\n",
    "class D(A,B):\n",
    "    def getD(self,d):\n",
    "        self.d = d\n",
    "    def putD(self):\n",
    "        print(f\"D = {self.d}\")\n",
    "\n",
    "d1 = D()\n",
    "\n",
    "d1.getA(10)  # d1 is an instance of Class D and it is taking inheritance from A & B.\n",
    "d1.getB(20)\n",
    "d1.getD(40)\n",
    "\n",
    "d1.putA()\n",
    "d1.putB()\n",
    "d1.putD()\n"
   ]
  },
  {
   "cell_type": "code",
   "execution_count": 45,
   "metadata": {},
   "outputs": [
    {
     "name": "stdout",
     "output_type": "stream",
     "text": [
      "A = 10\n",
      "B = 20\n",
      "C = 30\n",
      "D = 40\n"
     ]
    }
   ],
   "source": [
    "# Hierarchical inheritance ( A->B, A->C , A->D)\n",
    "\n",
    "class A:\n",
    "    def getA(self,a):\n",
    "        self.a = a\n",
    "    def putA(self):\n",
    "        print(f\"A = {self.a}\")\n",
    "\n",
    "class B(A):\n",
    "    def getB(self,b):\n",
    "        self.b = b\n",
    "    def putB(self):\n",
    "        print(f\"B = {self.b}\")\n",
    "\n",
    "class C(A):\n",
    "    def getC(self,c):\n",
    "        self.c = c\n",
    "    def putC(self):\n",
    "        print(f\"C = {self.c}\")\n",
    "\n",
    "class D(A):\n",
    "    def getD(self,d):\n",
    "        self.d = d\n",
    "    def putD(self):\n",
    "        print(f\"D = {self.d}\")\n",
    "\n",
    "b1 = B()\n",
    "c1 = C()\n",
    "d1 = D()\n",
    "\n",
    "b1.getA(10)\n",
    "b1.getB(20)\n",
    "c1.getC(30)\n",
    "d1.getD(40)\n",
    "\n",
    "b1.putA()\n",
    "# c1.putA() # value of A is assigned to b1 instance so putA will also needs to be called from same instance.\n",
    "b1.putB()\n",
    "c1.putC()\n",
    "d1.putD()\n"
   ]
  },
  {
   "cell_type": "code",
   "execution_count": 47,
   "metadata": {},
   "outputs": [
    {
     "name": "stdout",
     "output_type": "stream",
     "text": [
      "A = 10\n",
      "B = 20\n",
      "C = 30\n",
      "D = 40\n"
     ]
    }
   ],
   "source": [
    "# hybrid inheritance\n",
    "\n",
    "class A:\n",
    "    def getA(self,a):\n",
    "        self.a = a\n",
    "    def putA(self):\n",
    "        print(f\"A = {self.a}\")\n",
    "\n",
    "class B(A):\n",
    "    def getB(self,b):\n",
    "        self.b = b\n",
    "    def putB(self):\n",
    "        print(f\"B = {self.b}\")\n",
    "\n",
    "class C(A):\n",
    "    def getC(self,c):\n",
    "        self.c = c\n",
    "    def putC(self):\n",
    "        print(f\"C = {self.c}\")\n",
    "\n",
    "class D(B,C):\n",
    "    def getD(self,d):\n",
    "        self.d = d\n",
    "    def putD(self):\n",
    "        print(f\"D = {self.d}\")\n",
    "\n",
    "d1 = D()\n",
    "\n",
    "d1.getA(10)\n",
    "d1.getB(20)\n",
    "d1.getC(30)\n",
    "d1.getD(40)\n",
    "\n",
    "d1.putA()\n",
    "d1.putB()\n",
    "d1.putC()\n",
    "d1.putD()\n"
   ]
  }
 ],
 "metadata": {
  "kernelspec": {
   "display_name": "Python 3",
   "language": "python",
   "name": "python3"
  },
  "language_info": {
   "codemirror_mode": {
    "name": "ipython",
    "version": 3
   },
   "file_extension": ".py",
   "mimetype": "text/x-python",
   "name": "python",
   "nbconvert_exporter": "python",
   "pygments_lexer": "ipython3",
   "version": "3.10.7"
  }
 },
 "nbformat": 4,
 "nbformat_minor": 2
}
