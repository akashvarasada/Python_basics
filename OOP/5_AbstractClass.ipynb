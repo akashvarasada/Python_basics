{
 "cells": [
  {
   "cell_type": "code",
   "execution_count": 1,
   "metadata": {},
   "outputs": [],
   "source": [
    "# Abstract Class\n",
    "# Internal data and function is hidden.\n",
    "# Module vs class vs annotation and function\n",
    "# python dont support directly creation of abstract like JAVA. abstract class RBI.\n",
    "# abstract method don't have body part. only used pass keyword.\n"
   ]
  },
  {
   "cell_type": "code",
   "execution_count": 2,
   "metadata": {},
   "outputs": [],
   "source": [
    "from abc import ABC,abstractclassmethod"
   ]
  },
  {
   "cell_type": "code",
   "execution_count": 3,
   "metadata": {},
   "outputs": [
    {
     "ename": "TypeError",
     "evalue": "Can't instantiate abstract class RBI with abstract method roi",
     "output_type": "error",
     "traceback": [
      "\u001b[1;31m---------------------------------------------------------------------------\u001b[0m",
      "\u001b[1;31mTypeError\u001b[0m                                 Traceback (most recent call last)",
      "Cell \u001b[1;32mIn[3], line 7\u001b[0m\n\u001b[0;32m      3\u001b[0m     \u001b[38;5;129m@abstractclassmethod\u001b[39m\n\u001b[0;32m      4\u001b[0m     \u001b[38;5;28;01mdef\u001b[39;00m \u001b[38;5;21mroi\u001b[39m(\u001b[38;5;28mself\u001b[39m):\n\u001b[0;32m      5\u001b[0m         \u001b[38;5;28;01mpass\u001b[39;00m\n\u001b[1;32m----> 7\u001b[0m r1 \u001b[38;5;241m=\u001b[39m \u001b[43mRBI\u001b[49m\u001b[43m(\u001b[49m\u001b[43m)\u001b[49m\n",
      "\u001b[1;31mTypeError\u001b[0m: Can't instantiate abstract class RBI with abstract method roi"
     ]
    }
   ],
   "source": [
    "class RBI(ABC): # ABC is a base class to create any abstact class\n",
    "\n",
    "    @abstractclassmethod # this is called as annotation.\n",
    "    def roi(self):\n",
    "        pass # it has no body no arguments.\n",
    "\n",
    "r1 = RBI()"
   ]
  },
  {
   "cell_type": "code",
   "execution_count": 4,
   "metadata": {},
   "outputs": [
    {
     "ename": "TypeError",
     "evalue": "Can't instantiate abstract class SBI with abstract method roi",
     "output_type": "error",
     "traceback": [
      "\u001b[1;31m---------------------------------------------------------------------------\u001b[0m",
      "\u001b[1;31mTypeError\u001b[0m                                 Traceback (most recent call last)",
      "Cell \u001b[1;32mIn[4], line 13\u001b[0m\n\u001b[0;32m      9\u001b[0m     \u001b[38;5;28;01mdef\u001b[39;00m \u001b[38;5;21mshow\u001b[39m(\u001b[38;5;28mself\u001b[39m):\n\u001b[0;32m     10\u001b[0m         \u001b[38;5;28mprint\u001b[39m(\u001b[38;5;124m\"\u001b[39m\u001b[38;5;124mThis is RBI\u001b[39m\u001b[38;5;124m\"\u001b[39m)\n\u001b[1;32m---> 13\u001b[0m s1 \u001b[38;5;241m=\u001b[39m \u001b[43mSBI\u001b[49m\u001b[43m(\u001b[49m\u001b[43m)\u001b[49m\n\u001b[0;32m     14\u001b[0m s1\u001b[38;5;241m.\u001b[39mshow()\n",
      "\u001b[1;31mTypeError\u001b[0m: Can't instantiate abstract class SBI with abstract method roi"
     ]
    }
   ],
   "source": [
    "class RBI(ABC):\n",
    "\n",
    "    @abstractclassmethod\n",
    "    def roi(self):\n",
    "        pass\n",
    "\n",
    "class SBI(RBI): #inheritance of RBI so class SBI will not work until SBI defines as method called \"roi\".\n",
    "\n",
    "    def show(self):\n",
    "        print(\"This is SBI\")\n",
    "\n",
    "\n",
    "s1 = SBI()\n",
    "s1.show() # unless roi is defined into child class it will not work.\n",
    "\n",
    "# TypeError: Can't instantiate abstract class SBI with abstract method roi"
   ]
  },
  {
   "cell_type": "code",
   "execution_count": 7,
   "metadata": {},
   "outputs": [
    {
     "name": "stdout",
     "output_type": "stream",
     "text": [
      "This is SBI\n",
      "ROI for SBI is : 2.75%\n"
     ]
    }
   ],
   "source": [
    "class RBI(ABC):\n",
    "\n",
    "    @abstractclassmethod\n",
    "    def roi(self):\n",
    "        pass\n",
    "\n",
    "class SBI(RBI):\n",
    "\n",
    "    def show(self):\n",
    "        print(\"This is SBI\")\n",
    "\n",
    "    def roi(self):\n",
    "        print(\"ROI for SBI is : 2.75%\" )\n",
    "\n",
    "\n",
    "s1 = SBI()\n",
    "s1.show()\n",
    "s1.roi()"
   ]
  },
  {
   "cell_type": "code",
   "execution_count": 9,
   "metadata": {},
   "outputs": [
    {
     "name": "stdout",
     "output_type": "stream",
     "text": [
      "This is SBI\n",
      "ROI for SBI is : 2.75%\n",
      "This is ICICI\n",
      "ROI for ICICI is : 2.60%\n"
     ]
    }
   ],
   "source": [
    "class RBI(ABC):\n",
    "\n",
    "    @abstractclassmethod\n",
    "    def roi(self):\n",
    "        pass\n",
    "\n",
    "class SBI(RBI):\n",
    "\n",
    "    def show(self):\n",
    "        print(\"This is SBI\")\n",
    "\n",
    "    def roi(self):\n",
    "        print(\"ROI for SBI is : 2.75%\" )\n",
    "\n",
    "class ICICI(RBI):\n",
    "\n",
    "    def show(self):\n",
    "        print(\"This is ICICI\")\n",
    "\n",
    "    def roi(self):\n",
    "        print(\"ROI for ICICI is : 2.60%\" )\n",
    "\n",
    "\n",
    "s1 = SBI()\n",
    "s1.show()\n",
    "s1.roi()\n",
    "\n",
    "i1 = ICICI()\n",
    "i1.show()\n",
    "i1.roi()\n"
   ]
  },
  {
   "cell_type": "code",
   "execution_count": null,
   "metadata": {},
   "outputs": [],
   "source": []
  },
  {
   "cell_type": "code",
   "execution_count": null,
   "metadata": {},
   "outputs": [],
   "source": []
  }
 ],
 "metadata": {
  "kernelspec": {
   "display_name": "Python 3",
   "language": "python",
   "name": "python3"
  },
  "language_info": {
   "codemirror_mode": {
    "name": "ipython",
    "version": 3
   },
   "file_extension": ".py",
   "mimetype": "text/x-python",
   "name": "python",
   "nbconvert_exporter": "python",
   "pygments_lexer": "ipython3",
   "version": "3.10.7"
  }
 },
 "nbformat": 4,
 "nbformat_minor": 2
}
