{
 "cells": [
  {
   "cell_type": "code",
   "execution_count": 1,
   "metadata": {},
   "outputs": [],
   "source": [
    "# addition of objects\n",
    "# magic methods dont require calling.\n",
    "# __init__ is called when object is created for given class.\n",
    "\n",
    "# librery functions : manual call\n",
    "# user defined functions : manual call\n",
    "# magic functions(Method) : Auto call"
   ]
  },
  {
   "cell_type": "code",
   "execution_count": 2,
   "metadata": {},
   "outputs": [
    {
     "name": "stdout",
     "output_type": "stream",
     "text": [
      "Init called\n"
     ]
    }
   ],
   "source": [
    "class Point:\n",
    "    def __init__(self):\n",
    "        print(\"Init called\")\n",
    "\n",
    "p1 = Point()"
   ]
  },
  {
   "cell_type": "code",
   "execution_count": 3,
   "metadata": {},
   "outputs": [
    {
     "ename": "TypeError",
     "evalue": "Point.__init__() missing 2 required positional arguments: 'x' and 'y'",
     "output_type": "error",
     "traceback": [
      "\u001b[1;31m---------------------------------------------------------------------------\u001b[0m",
      "\u001b[1;31mTypeError\u001b[0m                                 Traceback (most recent call last)",
      "Cell \u001b[1;32mIn[3], line 7\u001b[0m\n\u001b[0;32m      4\u001b[0m         \u001b[38;5;28mself\u001b[39m\u001b[38;5;241m.\u001b[39mx\u001b[38;5;241m=\u001b[39mx\n\u001b[0;32m      5\u001b[0m         \u001b[38;5;28mself\u001b[39m\u001b[38;5;241m.\u001b[39my\u001b[38;5;241m=\u001b[39my\n\u001b[1;32m----> 7\u001b[0m p1 \u001b[38;5;241m=\u001b[39m \u001b[43mPoint\u001b[49m\u001b[43m(\u001b[49m\u001b[43m)\u001b[49m\n",
      "\u001b[1;31mTypeError\u001b[0m: Point.__init__() missing 2 required positional arguments: 'x' and 'y'"
     ]
    }
   ],
   "source": [
    "class Point:\n",
    "    def __init__(self,x,y):\n",
    "        print(\"Init called\")\n",
    "        self.x=x\n",
    "        self.y=y\n",
    "\n",
    "p1 = Point() # need x and y"
   ]
  },
  {
   "cell_type": "code",
   "execution_count": 4,
   "metadata": {},
   "outputs": [
    {
     "name": "stdout",
     "output_type": "stream",
     "text": [
      "Init called\n"
     ]
    }
   ],
   "source": [
    "class Point:\n",
    "    def __init__(self,x,y):\n",
    "        print(\"Init called\")\n",
    "        self.x=x\n",
    "        self.y=y\n",
    "\n",
    "p1 = Point(10,20) # need x and y"
   ]
  },
  {
   "cell_type": "code",
   "execution_count": 5,
   "metadata": {},
   "outputs": [
    {
     "name": "stdout",
     "output_type": "stream",
     "text": [
      "Init called\n"
     ]
    }
   ],
   "source": [
    "# __str__\n",
    "\n",
    "class Point:\n",
    "    def __init__(self,x,y):\n",
    "        print(\"Init called\")\n",
    "        self.x=x\n",
    "        self.y=y\n",
    "    def __str__(self):\n",
    "        print(\"str called\")\n",
    "        return f\"[{self.x},{self.y}]\"\n",
    "\n",
    "p1 = Point(10,20) # need x and y"
   ]
  },
  {
   "cell_type": "code",
   "execution_count": 6,
   "metadata": {},
   "outputs": [
    {
     "name": "stdout",
     "output_type": "stream",
     "text": [
      "Init called\n",
      "str called\n",
      "[10,20]\n"
     ]
    }
   ],
   "source": [
    "# __str__\n",
    "\n",
    "class Point:\n",
    "    def __init__(self,x,y):\n",
    "        print(\"Init called\")\n",
    "        self.x=x\n",
    "        self.y=y\n",
    "    def __str__(self):\n",
    "        print(\"str called\")\n",
    "        return f\"[{self.x},{self.y}]\"\n",
    "\n",
    "p1 = Point(10,20) # need x and y\n",
    "print(p1) # need to print to return str method"
   ]
  },
  {
   "cell_type": "code",
   "execution_count": 9,
   "metadata": {},
   "outputs": [
    {
     "name": "stdout",
     "output_type": "stream",
     "text": [
      "Init called\n",
      "str called\n",
      "[10,20]\n",
      "************************************\n",
      "Init called\n",
      "str called\n",
      "[30,40]\n",
      "-------------------------------------\n",
      "add called\n",
      "Init called\n",
      "+++++++++++++++++++++++++++++++++++++\n",
      "add called\n",
      "Init called\n",
      "str called\n",
      "[40,60]\n"
     ]
    }
   ],
   "source": [
    "# __add__\n",
    "\n",
    "class Point:\n",
    "    def __init__(self,x,y):\n",
    "        print(\"Init called\")\n",
    "        self.x=x\n",
    "        self.y=y\n",
    "    def __str__(self):\n",
    "        print(\"str called\")\n",
    "        return f\"[{self.x},{self.y}]\"\n",
    "    def __add__(self,obj): # This function takes two objects as a arguments and adds them.\n",
    "        print(\"add called\")\n",
    "        x = self.x + obj.x\n",
    "        y = self.y + obj.y\n",
    "        return Point(x,y)\n",
    "\n",
    "p1 = Point(10,20) # first object\n",
    "p1 # Only __init__ is called.\n",
    "print(p1) # __init__ and __str__ will be called.\n",
    "print(\"************************************\")\n",
    "\n",
    "p2 = Point(30,40) # second object\n",
    "p2 # Only __init__ is called.\n",
    "print(p2) # __init__ and __str__ will be called.\n",
    "print(\"-------------------------------------\")\n",
    "\n",
    "# at this moment as two object is added so __add__ will be called  and\n",
    "# as it return new object it will call the __init__ method as well.\n",
    "p1+p2 # __add__ and __init__ called\n",
    "print(\"+++++++++++++++++++++++++++++++++++++\")\n",
    "print(p1+p2) # __add__,__init__ and __str__ will be called."
   ]
  },
  {
   "cell_type": "code",
   "execution_count": null,
   "metadata": {},
   "outputs": [],
   "source": []
  }
 ],
 "metadata": {
  "kernelspec": {
   "display_name": "Python 3",
   "language": "python",
   "name": "python3"
  },
  "language_info": {
   "codemirror_mode": {
    "name": "ipython",
    "version": 3
   },
   "file_extension": ".py",
   "mimetype": "text/x-python",
   "name": "python",
   "nbconvert_exporter": "python",
   "pygments_lexer": "ipython3",
   "version": "3.10.7"
  }
 },
 "nbformat": 4,
 "nbformat_minor": 2
}
