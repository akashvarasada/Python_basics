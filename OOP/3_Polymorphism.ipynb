{
 "cells": [
  {
   "cell_type": "markdown",
   "metadata": {},
   "source": [
    "### Polymorphism:\n",
    "One name multiple form."
   ]
  },
  {
   "cell_type": "code",
   "execution_count": 20,
   "metadata": {},
   "outputs": [
    {
     "name": "stdout",
     "output_type": "stream",
     "text": [
      "Show From Class C\n"
     ]
    }
   ],
   "source": [
    "class A:\n",
    "    def show(self):\n",
    "        print(\"Show From Class A\")\n",
    "\n",
    "class B:\n",
    "    def show(self):\n",
    "        print(\"Show From Class B\")\n",
    "\n",
    "class C:\n",
    "    def show(self):\n",
    "        print(\"Show From Class C\")\n",
    "\n",
    "c1 = C()\n",
    "\n",
    "# runtime Polymorphism Method overriding :\n",
    "# only derived class method will be called.\n",
    "# Method of derived class overrides method of base class.\n",
    "c1.show()\n"
   ]
  },
  {
   "cell_type": "code",
   "execution_count": 23,
   "metadata": {},
   "outputs": [
    {
     "name": "stdout",
     "output_type": "stream",
     "text": [
      "Show From Class A\n",
      "Show From Class A\n",
      "Show From Class C\n"
     ]
    }
   ],
   "source": [
    "class A:\n",
    "    def show(self):\n",
    "        print(\"Show From Class A\")\n",
    "\n",
    "class B:\n",
    "    def show(self):\n",
    "        print(\"Show From Class B\")\n",
    "\n",
    "class C(A,B):\n",
    "    def show(self):\n",
    "        super().show() # to call metrhod of base class. Sequence matters (A,B) it will go to class A first.\n",
    "        print(\"Show From Class C\")\n",
    "\n",
    "c1 = C()\n",
    "c1.show()"
   ]
  },
  {
   "cell_type": "code",
   "execution_count": 25,
   "metadata": {},
   "outputs": [
    {
     "name": "stdout",
     "output_type": "stream",
     "text": [
      "Show From Class A\n",
      "Show From Class A\n",
      "Show From Class C\n"
     ]
    }
   ],
   "source": [
    "class A:\n",
    "    def show(self):\n",
    "        print(\"Show From Class A\")\n",
    "\n",
    "class B:\n",
    "    def show(self):\n",
    "        print(\"Show From Class B\")\n",
    "\n",
    "class C(A,B):\n",
    "    def show(self):\n",
    "        super().show() # to call metrhod of base class. Sequence matters (A,B) it will go to class A first.\n",
    "        super().show() # this will just duplicate the above execution.\n",
    "        print(\"Show From Class C\")\n",
    "\n",
    "c1 = C()\n",
    "c1.show()"
   ]
  },
  {
   "cell_type": "code",
   "execution_count": 29,
   "metadata": {},
   "outputs": [
    {
     "name": "stdout",
     "output_type": "stream",
     "text": [
      "Show From Class B\n",
      "Show From Class A\n",
      "Show From Class C\n"
     ]
    }
   ],
   "source": [
    "class A:\n",
    "    def show(self):\n",
    "        print(\"Show From Class A\")\n",
    "\n",
    "class B:\n",
    "    def show(self):\n",
    "        super().show() # to call metrhod of base class. Sequence matters (A,B) it will go to class A first.\n",
    "        print(\"Show From Class B\")\n",
    "\n",
    "class C(A,B):\n",
    "    def show(self):\n",
    "        super().show() # to call metrhod of base class. Sequence matters (A,B) it will go to class A first.\n",
    "        print(\"Show From Class C\")\n",
    "\n",
    "c1 = C()\n",
    "# since A and B are independent class this will never print the \"Show From Class B\".\n",
    "c1.show()"
   ]
  },
  {
   "cell_type": "code",
   "execution_count": 32,
   "metadata": {},
   "outputs": [
    {
     "name": "stdout",
     "output_type": "stream",
     "text": [
      "Show From Class B\n",
      "Show From Class C\n"
     ]
    }
   ],
   "source": [
    "class A:\n",
    "    def show(self):\n",
    "        print(\"Show From Class A\")\n",
    "\n",
    "class B:\n",
    "    def show(self):\n",
    "        # super().show() No nevigation back to class C so it will never get to class A.\n",
    "        print(\"Show From Class B\")\n",
    "\n",
    "class C(B,A):\n",
    "    def show(self):\n",
    "        super().show() # to call metrhod of base class. Sequence matters (A,B) it will go to class A first.\n",
    "        print(\"Show From Class C\")\n",
    "\n",
    "c1 = C()\n",
    "c1.show()"
   ]
  },
  {
   "cell_type": "code",
   "execution_count": 33,
   "metadata": {},
   "outputs": [
    {
     "name": "stdout",
     "output_type": "stream",
     "text": [
      "Show From Class A\n",
      "Show From Class B\n",
      "Show From Class C\n"
     ]
    }
   ],
   "source": [
    "class A:\n",
    "    def show(self):\n",
    "        print(\"Show From Class A\")\n",
    "\n",
    "class B:\n",
    "    def show(self):\n",
    "        super().show() # this will nevigate execute back to class C and then it will go to class A.\n",
    "        print(\"Show From Class B\")\n",
    "\n",
    "class C(B,A):\n",
    "    def show(self):\n",
    "        super().show() # Navigates to class B.\n",
    "        print(\"Show From Class C\")\n",
    "\n",
    "c1 = C()\n",
    "c1.show()"
   ]
  },
  {
   "cell_type": "code",
   "execution_count": 37,
   "metadata": {},
   "outputs": [
    {
     "name": "stdout",
     "output_type": "stream",
     "text": [
      "Show From Class A\n",
      "Show From Class B\n",
      "Show From Class C\n",
      "Show From Class D\n"
     ]
    }
   ],
   "source": [
    "class A:\n",
    "    def show(self):\n",
    "        print(\"Show From Class A\")\n",
    "\n",
    "class B(A):\n",
    "    def show(self):\n",
    "        super().show()\n",
    "        print(\"Show From Class B\")\n",
    "\n",
    "class C(A):\n",
    "    def show(self):\n",
    "        super().show()\n",
    "        print(\"Show From Class C\")\n",
    "\n",
    "class D(C,B):\n",
    "    def show(self):\n",
    "        super().show()\n",
    "        print(\"Show From Class D\")\n",
    "\n",
    "d1 = D()\n",
    "d1.show()"
   ]
  },
  {
   "cell_type": "code",
   "execution_count": null,
   "metadata": {},
   "outputs": [],
   "source": []
  },
  {
   "cell_type": "code",
   "execution_count": null,
   "metadata": {},
   "outputs": [],
   "source": []
  },
  {
   "cell_type": "code",
   "execution_count": null,
   "metadata": {},
   "outputs": [],
   "source": []
  },
  {
   "cell_type": "code",
   "execution_count": null,
   "metadata": {},
   "outputs": [],
   "source": []
  }
 ],
 "metadata": {
  "kernelspec": {
   "display_name": "Python 3",
   "language": "python",
   "name": "python3"
  },
  "language_info": {
   "codemirror_mode": {
    "name": "ipython",
    "version": 3
   },
   "file_extension": ".py",
   "mimetype": "text/x-python",
   "name": "python",
   "nbconvert_exporter": "python",
   "pygments_lexer": "ipython3",
   "version": "3.10.7"
  }
 },
 "nbformat": 4,
 "nbformat_minor": 2
}
