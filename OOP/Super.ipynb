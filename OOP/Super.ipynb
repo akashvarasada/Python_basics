{
 "cells": [
  {
   "cell_type": "code",
   "execution_count": 1,
   "metadata": {},
   "outputs": [],
   "source": [
    "# The `super()` method in Python is used to call a method from a parent class.\n",
    "# It is particularly useful in multiple inheritance scenarios to ensure that the method resolution order (MRO) is followed correctly.\n",
    "# Here's a breakdown of how it works:\n",
    "\n",
    "# 1. **Calling Parent Class Methods**:\n",
    "# `super()` allows you to call methods from a parent class without explicitly naming the parent class.\n",
    "# This makes your code more maintainable and flexible.\n",
    "\n",
    "# 2. **Method Resolution Order (MRO)**:\n",
    "# In cases of multiple inheritance, `super()` ensures that the methods are called in the correct order as defined by the MRO.\n",
    "# This prevents issues like calling the same method multiple times or skipping a method.\n",
    "\n",
    "# 3. **Syntax**:\n",
    "# The basic syntax is `super().method_name()`.\n",
    "# This calls the `method_name` from the parent class.\n"
   ]
  },
  {
   "cell_type": "code",
   "execution_count": 2,
   "metadata": {},
   "outputs": [
    {
     "name": "stdout",
     "output_type": "stream",
     "text": [
      "Show From Class A\n",
      "Show From Class B\n",
      "Show From Class C\n"
     ]
    }
   ],
   "source": [
    "class A:\n",
    "    def show(self):\n",
    "        print(\"Show From Class A\")\n",
    "\n",
    "class B(A):\n",
    "    def show(self):\n",
    "        super().show()  # Calls show method from class A\n",
    "        print(\"Show From Class B\")\n",
    "\n",
    "class C(B):\n",
    "    def show(self):\n",
    "        super().show()  # Calls show method from class B\n",
    "        print(\"Show From Class C\")\n",
    "\n",
    "c1 = C()\n",
    "c1.show()\n"
   ]
  },
  {
   "cell_type": "code",
   "execution_count": 3,
   "metadata": {},
   "outputs": [],
   "source": [
    "# `super().show()` in class B calls the `show` method from class A,\n",
    "# and `super().show()` in class C calls the `show` method from class B, following the MRO.\n"
   ]
  },
  {
   "cell_type": "code",
   "execution_count": null,
   "metadata": {},
   "outputs": [],
   "source": []
  }
 ],
 "metadata": {
  "kernelspec": {
   "display_name": "Python 3",
   "language": "python",
   "name": "python3"
  },
  "language_info": {
   "codemirror_mode": {
    "name": "ipython",
    "version": 3
   },
   "file_extension": ".py",
   "mimetype": "text/x-python",
   "name": "python",
   "nbconvert_exporter": "python",
   "pygments_lexer": "ipython3",
   "version": "3.10.7"
  }
 },
 "nbformat": 4,
 "nbformat_minor": 2
}
