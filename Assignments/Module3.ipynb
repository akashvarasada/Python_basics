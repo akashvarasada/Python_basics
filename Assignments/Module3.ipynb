{
 "cells": [
  {
   "cell_type": "markdown",
   "metadata": {},
   "source": [
    "Module – 3 (Collections, functions and Modules)"
   ]
  },
  {
   "cell_type": "code",
   "execution_count": 8,
   "metadata": {},
   "outputs": [
    {
     "name": "stdout",
     "output_type": "stream",
     "text": [
      "-----------------------\n",
      "Original List\n",
      "[1, 2, 3, 4, 5]\n",
      "Reversed List using .reverse() method.\n",
      "[5, 4, 3, 2, 1]\n",
      "-----------------------\n",
      "-----------------------\n",
      "Original List\n",
      "[1, 2, 3, 4, 5]\n",
      "Reversed List using slicing.\n",
      "[5, 4, 3, 2, 1]\n",
      "-----------------------\n",
      "-----------------------\n",
      "Original List\n",
      "[1, 2, 3, 4, 5]\n",
      "Reversed List using reversed function. \n",
      "[5, 4, 3, 2, 1]\n",
      "-----------------------\n"
     ]
    }
   ],
   "source": [
    "# What is List? How will you reverse a list?\n",
    "\n",
    "# A list is a data structure in programming that holds an ordered collection of items.\n",
    "# These items can be of any data type, such as integers, strings, or even other lists.\n",
    "# Lists are commonly used because they allow for easy manipulation of the data they contain.\n",
    "\n",
    "# there are 3 ways to reverse a list.\n",
    "print(\"-----------------------\")\n",
    "my_list1 = [1, 2, 3, 4, 5]\n",
    "print(\"Original List\")\n",
    "print(my_list1)\n",
    "print(\"Reversed List using .reverse() method.\")\n",
    "my_list1.reverse()\n",
    "print(my_list1)\n",
    "print(\"-----------------------\")\n",
    "\n",
    "print(\"-----------------------\")\n",
    "my_list2 = [1, 2, 3, 4, 5]\n",
    "print(\"Original List\")\n",
    "print(my_list2)\n",
    "print(\"Reversed List using slicing.\")\n",
    "reversed_list = my_list2[::-1]\n",
    "print(reversed_list)\n",
    "print(\"-----------------------\")\n",
    "\n",
    "\n",
    "print(\"-----------------------\")\n",
    "my_list3 = [1, 2, 3, 4, 5]\n",
    "print(\"Original List\")\n",
    "print(my_list3)\n",
    "print(\"Reversed List using reversed function. \")\n",
    "reversed_list = list(reversed(my_list3))\n",
    "print(reversed_list)\n",
    "print(\"-----------------------\")"
   ]
  },
  {
   "cell_type": "code",
   "execution_count": 10,
   "metadata": {},
   "outputs": [
    {
     "name": "stdout",
     "output_type": "stream",
     "text": [
      "-----------------------\n",
      "Original List\n",
      "[2, 33, 222, 14, 25]\n",
      "last object removed using pop() function.\n",
      "[2, 33, 222, 14]\n",
      "-----------------------\n",
      "-----------------------\n",
      "Original List\n",
      "[2, 33, 222, 14, 25]\n",
      "last object removed using slicing.\n",
      "[2, 33, 222, 14]\n",
      "-----------------------\n"
     ]
    }
   ],
   "source": [
    "# How will you remove last object from a list?\n",
    "# Suppose list1 is [2, 33, 222, 14, and 25], what is list1 [-1]?\n",
    "\n",
    "# To remove the last object from a list in Python, we can use the pop() method without any arguments.\n",
    "print(\"-----------------------\")\n",
    "list1 = [2, 33, 222, 14, 25]\n",
    "print(\"Original List\")\n",
    "print(list1)\n",
    "list1.pop()\n",
    "print(\"last object removed using pop() function.\")\n",
    "print(list1)\n",
    "print(\"-----------------------\")\n",
    "\n",
    "\n",
    "print(\"-----------------------\")\n",
    "list2 = [2, 33, 222, 14, 25]\n",
    "print(\"Original List\")\n",
    "print(list2)\n",
    "list2 = list2[:-1]\n",
    "print(\"last object removed using slicing.\")\n",
    "print(list2)\n",
    "print(\"-----------------------\")\n"
   ]
  },
  {
   "cell_type": "code",
   "execution_count": 13,
   "metadata": {},
   "outputs": [
    {
     "name": "stdout",
     "output_type": "stream",
     "text": [
      "-----------------------\n",
      "Original List\n",
      "[1, 2, 3]\n",
      "[4,5,6] has been added to list using .extend() method.\n",
      "adding each element 4,5 & 6 in the list\n",
      "[1, 2, 3, 4, 5, 6]\n",
      "-----------------------\n",
      "-----------------------\n",
      "Original List\n",
      "[1, 2, 3]\n",
      "[4,5,6] has been added to list using .append() method.\n",
      "Added a single element [4,5,6] in the list\n",
      "[1, 2, 3, [4, 5, 6]]\n",
      "-----------------------\n"
     ]
    }
   ],
   "source": [
    "# Differentiate between append () and extend () methods?\n",
    "\n",
    "# Both append() and extend() are methods used to add elements to a list in Python,\n",
    "# but they work differently.\n",
    "\n",
    "# Append:  Adds its argument as a single element to the end of a list.\n",
    "# Extend : Iterates over its argument and adds each element to the list.\n",
    "\n",
    "print(\"-----------------------\")\n",
    "list1 = [1, 2, 3]\n",
    "print(\"Original List\")\n",
    "print(list1)\n",
    "list1.extend([4, 5, 6])\n",
    "print(\"[4,5,6] has been added to list using .extend() method.\")\n",
    "print(\"adding each element 4,5 & 6 in the list\")\n",
    "print(list1)\n",
    "print(\"-----------------------\")\n",
    "\n",
    "\n",
    "print(\"-----------------------\")\n",
    "list2 = [1, 2, 3]\n",
    "print(\"Original List\")\n",
    "print(list2)\n",
    "list2.append([4, 5, 6])\n",
    "print(\"[4,5,6] has been added to list using .append() method.\")\n",
    "print(\"Added a single element [4,5,6] in the list\")\n",
    "print(list2)\n",
    "print(\"-----------------------\")\n"
   ]
  },
  {
   "cell_type": "code",
   "execution_count": null,
   "metadata": {},
   "outputs": [],
   "source": []
  },
  {
   "cell_type": "code",
   "execution_count": null,
   "metadata": {},
   "outputs": [],
   "source": []
  },
  {
   "cell_type": "code",
   "execution_count": null,
   "metadata": {},
   "outputs": [],
   "source": []
  },
  {
   "cell_type": "code",
   "execution_count": null,
   "metadata": {},
   "outputs": [],
   "source": []
  },
  {
   "cell_type": "code",
   "execution_count": null,
   "metadata": {},
   "outputs": [],
   "source": []
  },
  {
   "cell_type": "code",
   "execution_count": null,
   "metadata": {},
   "outputs": [],
   "source": []
  },
  {
   "cell_type": "code",
   "execution_count": null,
   "metadata": {},
   "outputs": [],
   "source": []
  },
  {
   "cell_type": "code",
   "execution_count": null,
   "metadata": {},
   "outputs": [],
   "source": []
  },
  {
   "cell_type": "code",
   "execution_count": null,
   "metadata": {},
   "outputs": [],
   "source": []
  },
  {
   "cell_type": "code",
   "execution_count": null,
   "metadata": {},
   "outputs": [],
   "source": []
  },
  {
   "cell_type": "code",
   "execution_count": null,
   "metadata": {},
   "outputs": [],
   "source": []
  },
  {
   "cell_type": "code",
   "execution_count": null,
   "metadata": {},
   "outputs": [],
   "source": []
  },
  {
   "cell_type": "code",
   "execution_count": null,
   "metadata": {},
   "outputs": [],
   "source": []
  },
  {
   "cell_type": "code",
   "execution_count": null,
   "metadata": {},
   "outputs": [],
   "source": []
  },
  {
   "cell_type": "code",
   "execution_count": null,
   "metadata": {},
   "outputs": [],
   "source": []
  },
  {
   "cell_type": "code",
   "execution_count": null,
   "metadata": {},
   "outputs": [],
   "source": []
  },
  {
   "cell_type": "code",
   "execution_count": null,
   "metadata": {},
   "outputs": [],
   "source": []
  },
  {
   "cell_type": "code",
   "execution_count": null,
   "metadata": {},
   "outputs": [],
   "source": []
  },
  {
   "cell_type": "code",
   "execution_count": null,
   "metadata": {},
   "outputs": [],
   "source": []
  },
  {
   "cell_type": "code",
   "execution_count": null,
   "metadata": {},
   "outputs": [],
   "source": []
  },
  {
   "cell_type": "code",
   "execution_count": null,
   "metadata": {},
   "outputs": [],
   "source": []
  },
  {
   "cell_type": "code",
   "execution_count": null,
   "metadata": {},
   "outputs": [],
   "source": []
  },
  {
   "cell_type": "code",
   "execution_count": null,
   "metadata": {},
   "outputs": [],
   "source": []
  },
  {
   "cell_type": "code",
   "execution_count": null,
   "metadata": {},
   "outputs": [],
   "source": []
  },
  {
   "cell_type": "code",
   "execution_count": null,
   "metadata": {},
   "outputs": [],
   "source": []
  },
  {
   "cell_type": "code",
   "execution_count": null,
   "metadata": {},
   "outputs": [],
   "source": []
  },
  {
   "cell_type": "code",
   "execution_count": null,
   "metadata": {},
   "outputs": [],
   "source": []
  }
 ],
 "metadata": {
  "kernelspec": {
   "display_name": "Python 3",
   "language": "python",
   "name": "python3"
  },
  "language_info": {
   "codemirror_mode": {
    "name": "ipython",
    "version": 3
   },
   "file_extension": ".py",
   "mimetype": "text/x-python",
   "name": "python",
   "nbconvert_exporter": "python",
   "pygments_lexer": "ipython3",
   "version": "3.10.7"
  }
 },
 "nbformat": 4,
 "nbformat_minor": 2
}
