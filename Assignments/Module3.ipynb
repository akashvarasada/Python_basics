{
 "cells": [
  {
   "cell_type": "markdown",
   "metadata": {},
   "source": [
    "Module – 3 (Collections, functions and Modules)"
   ]
  },
  {
   "cell_type": "code",
   "execution_count": 8,
   "metadata": {},
   "outputs": [
    {
     "name": "stdout",
     "output_type": "stream",
     "text": [
      "-----------------------\n",
      "Original List\n",
      "[1, 2, 3, 4, 5]\n",
      "Reversed List using .reverse() method.\n",
      "[5, 4, 3, 2, 1]\n",
      "-----------------------\n",
      "-----------------------\n",
      "Original List\n",
      "[1, 2, 3, 4, 5]\n",
      "Reversed List using slicing.\n",
      "[5, 4, 3, 2, 1]\n",
      "-----------------------\n",
      "-----------------------\n",
      "Original List\n",
      "[1, 2, 3, 4, 5]\n",
      "Reversed List using reversed function. \n",
      "[5, 4, 3, 2, 1]\n",
      "-----------------------\n"
     ]
    }
   ],
   "source": [
    "# What is List? How will you reverse a list?\n",
    "\n",
    "# A list is a data structure in programming that holds an ordered collection of items.\n",
    "# These items can be of any data type, such as integers, strings, or even other lists.\n",
    "# Lists are commonly used because they allow for easy manipulation of the data they contain.\n",
    "\n",
    "# there are 3 ways to reverse a list.\n",
    "print(\"-----------------------\")\n",
    "my_list1 = [1, 2, 3, 4, 5]\n",
    "print(\"Original List\")\n",
    "print(my_list1)\n",
    "print(\"Reversed List using .reverse() method.\")\n",
    "my_list1.reverse()\n",
    "print(my_list1)\n",
    "print(\"-----------------------\")\n",
    "\n",
    "print(\"-----------------------\")\n",
    "my_list2 = [1, 2, 3, 4, 5]\n",
    "print(\"Original List\")\n",
    "print(my_list2)\n",
    "print(\"Reversed List using slicing.\")\n",
    "reversed_list = my_list2[::-1]\n",
    "print(reversed_list)\n",
    "print(\"-----------------------\")\n",
    "\n",
    "\n",
    "print(\"-----------------------\")\n",
    "my_list3 = [1, 2, 3, 4, 5]\n",
    "print(\"Original List\")\n",
    "print(my_list3)\n",
    "print(\"Reversed List using reversed function. \")\n",
    "reversed_list = list(reversed(my_list3))\n",
    "print(reversed_list)\n",
    "print(\"-----------------------\")"
   ]
  },
  {
   "cell_type": "code",
   "execution_count": 10,
   "metadata": {},
   "outputs": [
    {
     "name": "stdout",
     "output_type": "stream",
     "text": [
      "-----------------------\n",
      "Original List\n",
      "[2, 33, 222, 14, 25]\n",
      "last object removed using pop() function.\n",
      "[2, 33, 222, 14]\n",
      "-----------------------\n",
      "-----------------------\n",
      "Original List\n",
      "[2, 33, 222, 14, 25]\n",
      "last object removed using slicing.\n",
      "[2, 33, 222, 14]\n",
      "-----------------------\n"
     ]
    }
   ],
   "source": [
    "# How will you remove last object from a list?\n",
    "# Suppose list1 is [2, 33, 222, 14, and 25], what is list1 [-1]?\n",
    "\n",
    "# To remove the last object from a list in Python, we can use the pop() method without any arguments.\n",
    "print(\"-----------------------\")\n",
    "list1 = [2, 33, 222, 14, 25]\n",
    "print(\"Original List\")\n",
    "print(list1)\n",
    "list1.pop()\n",
    "print(\"last object removed using pop() function.\")\n",
    "print(list1)\n",
    "print(\"-----------------------\")\n",
    "\n",
    "\n",
    "print(\"-----------------------\")\n",
    "list2 = [2, 33, 222, 14, 25]\n",
    "print(\"Original List\")\n",
    "print(list2)\n",
    "list2 = list2[:-1]\n",
    "print(\"last object removed using slicing.\")\n",
    "print(list2)\n",
    "print(\"-----------------------\")\n"
   ]
  },
  {
   "cell_type": "code",
   "execution_count": 13,
   "metadata": {},
   "outputs": [
    {
     "name": "stdout",
     "output_type": "stream",
     "text": [
      "-----------------------\n",
      "Original List\n",
      "[1, 2, 3]\n",
      "[4,5,6] has been added to list using .extend() method.\n",
      "adding each element 4,5 & 6 in the list\n",
      "[1, 2, 3, 4, 5, 6]\n",
      "-----------------------\n",
      "-----------------------\n",
      "Original List\n",
      "[1, 2, 3]\n",
      "[4,5,6] has been added to list using .append() method.\n",
      "Added a single element [4,5,6] in the list\n",
      "[1, 2, 3, [4, 5, 6]]\n",
      "-----------------------\n"
     ]
    }
   ],
   "source": [
    "# Differentiate between append () and extend () methods?\n",
    "\n",
    "# Both append() and extend() are methods used to add elements to a list in Python,\n",
    "# but they work differently.\n",
    "\n",
    "# Append:  Adds its argument as a single element to the end of a list.\n",
    "# Extend : Iterates over its argument and adds each element to the list.\n",
    "\n",
    "print(\"-----------------------\")\n",
    "list1 = [1, 2, 3]\n",
    "print(\"Original List\")\n",
    "print(list1)\n",
    "list1.extend([4, 5, 6])\n",
    "print(\"[4,5,6] has been added to list using .extend() method.\")\n",
    "print(\"adding each element 4,5 & 6 in the list\")\n",
    "print(list1)\n",
    "print(\"-----------------------\")\n",
    "\n",
    "\n",
    "print(\"-----------------------\")\n",
    "list2 = [1, 2, 3]\n",
    "print(\"Original List\")\n",
    "print(list2)\n",
    "list2.append([4, 5, 6])\n",
    "print(\"[4,5,6] has been added to list using .append() method.\")\n",
    "print(\"Added a single element [4,5,6] in the list\")\n",
    "print(list2)\n",
    "print(\"-----------------------\")\n"
   ]
  },
  {
   "cell_type": "code",
   "execution_count": 2,
   "metadata": {},
   "outputs": [
    {
     "name": "stdout",
     "output_type": "stream",
     "text": [
      "[10, 20, 5, 30, -10]\n",
      "Largest: 30, Smallest: -10, Sum: 55\n"
     ]
    }
   ],
   "source": [
    "#Write a Python function to get the largest number, smallest num and sum of all from a list.\n",
    "# Method-1 : With functions\n",
    "def analyze_numbers(numbers):\n",
    "    if not numbers:  # Check if the list is empty\n",
    "        return None, None, 0\n",
    "\n",
    "    largest = max(numbers)\n",
    "    smallest = min(numbers)\n",
    "    total_sum = sum(numbers)\n",
    "\n",
    "    return largest, smallest, total_sum\n",
    "\n",
    "# Example usage:\n",
    "numbers = [10, 20, 5, 30, -10]\n",
    "largest, smallest, total_sum = analyze_numbers(numbers)\n",
    "print(numbers)\n",
    "print(f\"Largest: {largest}, Smallest: {smallest}, Sum: {total_sum}\")\n"
   ]
  },
  {
   "cell_type": "code",
   "execution_count": 3,
   "metadata": {},
   "outputs": [
    {
     "name": "stdout",
     "output_type": "stream",
     "text": [
      "[10, 20, 5, 30, -10]\n",
      "Largest: 30, Smallest: -10, Sum: 55\n"
     ]
    }
   ],
   "source": [
    "# Method-2 : Without functions\n",
    "\n",
    "def analyze_numbers(numbers):\n",
    "    if not numbers:  # Check if the list is empty\n",
    "        return None, None, 0\n",
    "\n",
    "    largest = smallest = numbers[0]  # Initialize both with the first element\n",
    "    total_sum = 0\n",
    "\n",
    "    for num in numbers:\n",
    "        if num > largest:\n",
    "            largest = num\n",
    "        if num < smallest:\n",
    "            smallest = num\n",
    "        total_sum += num  # Add each number to the total sum\n",
    "\n",
    "    return largest, smallest, total_sum\n",
    "\n",
    "# Example usage:\n",
    "numbers = [10, 20, 5, 30, -10]\n",
    "largest, smallest, total_sum = analyze_numbers(numbers)\n",
    "print(numbers)\n",
    "print(f\"Largest: {largest}, Smallest: {smallest}, Sum: {total_sum}\")\n"
   ]
  },
  {
   "cell_type": "code",
   "execution_count": 5,
   "metadata": {},
   "outputs": [
    {
     "name": "stdout",
     "output_type": "stream",
     "text": [
      "[34, 64, 25, 12, 22, 11, 90]\n",
      "[34, 25, 64, 12, 22, 11, 90]\n",
      "[34, 25, 12, 64, 22, 11, 90]\n",
      "[34, 25, 12, 22, 64, 11, 90]\n",
      "[34, 25, 12, 22, 11, 64, 90]\n",
      "[25, 34, 12, 22, 11, 64, 90]\n",
      "[25, 12, 34, 22, 11, 64, 90]\n",
      "[25, 12, 22, 34, 11, 64, 90]\n",
      "[25, 12, 22, 11, 34, 64, 90]\n",
      "[12, 25, 22, 11, 34, 64, 90]\n",
      "[12, 22, 25, 11, 34, 64, 90]\n",
      "[12, 22, 11, 25, 34, 64, 90]\n",
      "[12, 11, 22, 25, 34, 64, 90]\n",
      "[11, 12, 22, 25, 34, 64, 90]\n",
      "Sorted list: [11, 12, 22, 25, 34, 64, 90]\n"
     ]
    }
   ],
   "source": [
    "#Bubble sort:\n",
    "# https://www.youtube.com/watch?v=9I2oOAr2okY&ab_channel=4GeeksAcademyEspa%C3%B1ol\n",
    "\n",
    "def bubble_sort(numbers):\n",
    "    n = len(numbers)\n",
    "    for i in range(n):\n",
    "        # Track if a swap occurred\n",
    "        swapped = False\n",
    "        for j in range(0, n - i - 1):\n",
    "            # Compare adjacent elements\n",
    "            if numbers[j] > numbers[j + 1]:\n",
    "                # Swap if they are in the wrong order\n",
    "                numbers[j], numbers[j + 1] = numbers[j + 1], numbers[j]\n",
    "                swapped = True\n",
    "                print(numbers)\n",
    "        # If no elements were swapped, the list is already sorted\n",
    "        if not swapped:\n",
    "            break\n",
    "    return numbers\n",
    "\n",
    "# Example usage:\n",
    "unsorted_list = [64, 34, 25, 12, 22, 11, 90]\n",
    "sorted_list = bubble_sort(unsorted_list)\n",
    "print(\"Sorted list:\", sorted_list)\n"
   ]
  },
  {
   "cell_type": "code",
   "execution_count": 6,
   "metadata": {},
   "outputs": [
    {
     "name": "stdout",
     "output_type": "stream",
     "text": [
      "[34, 64, 25, 12, 22, 11, 90]\n",
      "[34, 25, 64, 12, 22, 11, 90]\n",
      "[34, 25, 12, 64, 22, 11, 90]\n",
      "[34, 25, 12, 22, 64, 11, 90]\n",
      "[34, 25, 12, 22, 11, 64, 90]\n",
      "[25, 34, 12, 22, 11, 64, 90]\n",
      "[25, 12, 34, 22, 11, 64, 90]\n",
      "[25, 12, 22, 34, 11, 64, 90]\n",
      "[25, 12, 22, 11, 34, 64, 90]\n",
      "[12, 25, 22, 11, 34, 64, 90]\n",
      "[12, 22, 25, 11, 34, 64, 90]\n",
      "[12, 22, 11, 25, 34, 64, 90]\n",
      "[12, 11, 22, 25, 34, 64, 90]\n",
      "[11, 12, 22, 25, 34, 64, 90]\n",
      "Sorted list: [11, 12, 22, 25, 34, 64, 90]\n"
     ]
    }
   ],
   "source": [
    "def optimized_bubble_sort(numbers):\n",
    "    n = len(numbers)\n",
    "    for i in range(n):\n",
    "        # Track if a swap occurred\n",
    "        swapped = False\n",
    "        last_unsorted = n - i - 1  # Keep track of the last unsorted element\n",
    "        for j in range(last_unsorted):\n",
    "            # Compare adjacent elements\n",
    "            if numbers[j] > numbers[j + 1]:\n",
    "                # Swap if they are in the wrong order\n",
    "                numbers[j], numbers[j + 1] = numbers[j + 1], numbers[j]\n",
    "                swapped = True\n",
    "                print(numbers)\n",
    "        # If no elements were swapped, the list is already sorted\n",
    "        if not swapped:\n",
    "            break\n",
    "    return numbers\n",
    "\n",
    "# Example usage:\n",
    "unsorted_list = [64, 34, 25, 12, 22, 11, 90]\n",
    "sorted_list = optimized_bubble_sort(unsorted_list)\n",
    "print(\"Sorted list:\", sorted_list)\n"
   ]
  },
  {
   "cell_type": "code",
   "execution_count": 7,
   "metadata": {},
   "outputs": [
    {
     "name": "stdout",
     "output_type": "stream",
     "text": [
      "[64, 64, 25, 12, 22, 11, 90]\n",
      "[34, 64, 64, 12, 22, 11, 90]\n",
      "[34, 34, 64, 12, 22, 11, 90]\n",
      "[25, 34, 64, 64, 22, 11, 90]\n",
      "[25, 34, 34, 64, 22, 11, 90]\n",
      "[25, 25, 34, 64, 22, 11, 90]\n",
      "[12, 25, 34, 64, 64, 11, 90]\n",
      "[12, 25, 34, 34, 64, 11, 90]\n",
      "[12, 25, 25, 34, 64, 11, 90]\n",
      "[12, 22, 25, 34, 64, 64, 90]\n",
      "[12, 22, 25, 34, 34, 64, 90]\n",
      "[12, 22, 25, 25, 34, 64, 90]\n",
      "[12, 22, 22, 25, 34, 64, 90]\n",
      "[12, 12, 22, 25, 34, 64, 90]\n",
      "Sorted list: [11, 12, 22, 25, 34, 64, 90]\n"
     ]
    }
   ],
   "source": [
    "def insertion_sort(numbers):\n",
    "    for i in range(1, len(numbers)):\n",
    "        key = numbers[i]\n",
    "        j = i - 1\n",
    "        # Move elements of numbers[0..i-1] that are greater than key\n",
    "        while j >= 0 and key < numbers[j]:\n",
    "            numbers[j + 1] = numbers[j]\n",
    "            j -= 1\n",
    "            print(numbers)\n",
    "        numbers[j + 1] = key\n",
    "    return numbers\n",
    "\n",
    "# Example usage:\n",
    "unsorted_list = [64, 34, 25, 12, 22, 11, 90]\n",
    "sorted_list = insertion_sort(unsorted_list)\n",
    "print(\"Sorted list:\", sorted_list)\n"
   ]
  },
  {
   "cell_type": "code",
   "execution_count": 8,
   "metadata": {},
   "outputs": [
    {
     "name": "stdout",
     "output_type": "stream",
     "text": [
      "True\n"
     ]
    }
   ],
   "source": [
    "# How will you compare two lists?\n",
    "\n",
    "list1 = [1, 2, 3, 3]\n",
    "list2 = [3, 2, 1]\n",
    "\n",
    "# Check if they contain the same unique elements\n",
    "same_elements = set(list1) == set(list2)\n",
    "print(same_elements)  # Output: True\n"
   ]
  },
  {
   "cell_type": "code",
   "execution_count": 11,
   "metadata": {},
   "outputs": [
    {
     "name": "stdout",
     "output_type": "stream",
     "text": [
      "True\n"
     ]
    }
   ],
   "source": [
    "#Set Comparison\n",
    "list1 = [1, 2, 3, 3]\n",
    "list2 = [3, 2, 1]\n",
    "\n",
    "# Check if they contain the same unique elements\n",
    "same_elements = set(list1) == set(list2)\n",
    "print(same_elements)  # Output: True\n"
   ]
  },
  {
   "cell_type": "code",
   "execution_count": 12,
   "metadata": {},
   "outputs": [
    {
     "name": "stdout",
     "output_type": "stream",
     "text": [
      "{1}\n",
      "{4}\n"
     ]
    }
   ],
   "source": [
    "#Finding Differences\n",
    "list1 = [1, 2, 3]\n",
    "list2 = [2, 3, 4]\n",
    "\n",
    "# Elements in list1 not in list2\n",
    "diff1 = set(list1) - set(list2)\n",
    "print(diff1)  # Output: {1}\n",
    "\n",
    "# Elements in list2 not in list1\n",
    "diff2 = set(list2) - set(list1)\n",
    "print(diff2)  # Output: {4}\n"
   ]
  },
  {
   "cell_type": "code",
   "execution_count": 14,
   "metadata": {},
   "outputs": [
    {
     "name": "stdout",
     "output_type": "stream",
     "text": [
      "Counter({2: 2, 1: 1, 3: 1})\n",
      "Counter({2: 2, 1: 1, 3: 1})\n",
      "True\n"
     ]
    }
   ],
   "source": [
    "#Counting Occurrences\n",
    "from collections import Counter\n",
    "\n",
    "list1 = [1, 2, 2, 3]\n",
    "list2 = [2, 1, 3, 2]\n",
    "\n",
    "# Count occurrences of each element\n",
    "counter1 = Counter(list1)\n",
    "counter2 = Counter(list2)\n",
    "\n",
    "# Check if the counts are the same\n",
    "are_counts_equal = counter1 == counter2\n",
    "print(counter1)\n",
    "print(counter2)\n",
    "print(are_counts_equal)  # Output: True\n"
   ]
  },
  {
   "cell_type": "code",
   "execution_count": null,
   "metadata": {},
   "outputs": [],
   "source": []
  },
  {
   "cell_type": "code",
   "execution_count": null,
   "metadata": {},
   "outputs": [],
   "source": []
  },
  {
   "cell_type": "code",
   "execution_count": null,
   "metadata": {},
   "outputs": [],
   "source": []
  },
  {
   "cell_type": "code",
   "execution_count": null,
   "metadata": {},
   "outputs": [],
   "source": []
  },
  {
   "cell_type": "code",
   "execution_count": null,
   "metadata": {},
   "outputs": [],
   "source": []
  },
  {
   "cell_type": "code",
   "execution_count": null,
   "metadata": {},
   "outputs": [],
   "source": []
  },
  {
   "cell_type": "code",
   "execution_count": null,
   "metadata": {},
   "outputs": [],
   "source": []
  },
  {
   "cell_type": "code",
   "execution_count": null,
   "metadata": {},
   "outputs": [],
   "source": []
  },
  {
   "cell_type": "code",
   "execution_count": null,
   "metadata": {},
   "outputs": [],
   "source": []
  },
  {
   "cell_type": "code",
   "execution_count": null,
   "metadata": {},
   "outputs": [],
   "source": []
  },
  {
   "cell_type": "code",
   "execution_count": null,
   "metadata": {},
   "outputs": [],
   "source": []
  },
  {
   "cell_type": "code",
   "execution_count": null,
   "metadata": {},
   "outputs": [],
   "source": []
  },
  {
   "cell_type": "code",
   "execution_count": null,
   "metadata": {},
   "outputs": [],
   "source": []
  },
  {
   "cell_type": "code",
   "execution_count": null,
   "metadata": {},
   "outputs": [],
   "source": []
  },
  {
   "cell_type": "code",
   "execution_count": null,
   "metadata": {},
   "outputs": [],
   "source": []
  },
  {
   "cell_type": "code",
   "execution_count": null,
   "metadata": {},
   "outputs": [],
   "source": []
  },
  {
   "cell_type": "code",
   "execution_count": null,
   "metadata": {},
   "outputs": [],
   "source": []
  },
  {
   "cell_type": "code",
   "execution_count": null,
   "metadata": {},
   "outputs": [],
   "source": []
  }
 ],
 "metadata": {
  "kernelspec": {
   "display_name": "Python 3",
   "language": "python",
   "name": "python3"
  },
  "language_info": {
   "codemirror_mode": {
    "name": "ipython",
    "version": 3
   },
   "file_extension": ".py",
   "mimetype": "text/x-python",
   "name": "python",
   "nbconvert_exporter": "python",
   "pygments_lexer": "ipython3",
   "version": "3.10.7"
  }
 },
 "nbformat": 4,
 "nbformat_minor": 2
}
